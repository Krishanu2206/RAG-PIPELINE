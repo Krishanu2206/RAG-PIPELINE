{
 "cells": [
  {
   "cell_type": "code",
   "execution_count": null,
   "id": "b70bccc0",
   "metadata": {},
   "outputs": [
    {
     "name": "stdout",
     "output_type": "stream",
     "text": [
      "Requirement already satisfied: requests in d:\\rag pipeline\\.venv\\lib\\site-packages (2.32.4)\n",
      "Requirement already satisfied: charset_normalizer<4,>=2 in d:\\rag pipeline\\.venv\\lib\\site-packages (from requests) (3.4.2)\n",
      "Requirement already satisfied: idna<4,>=2.5 in d:\\rag pipeline\\.venv\\lib\\site-packages (from requests) (3.10)\n",
      "Requirement already satisfied: urllib3<3,>=1.21.1 in d:\\rag pipeline\\.venv\\lib\\site-packages (from requests) (2.5.0)\n",
      "Requirement already satisfied: certifi>=2017.4.17 in d:\\rag pipeline\\.venv\\lib\\site-packages (from requests) (2025.8.3)\n",
      "Note: you may need to restart the kernel to use updated packages.\n"
     ]
    },
    {
     "name": "stderr",
     "output_type": "stream",
     "text": [
      "\n",
      "[notice] A new release of pip is available: 23.2.1 -> 25.2\n",
      "[notice] To update, run: python.exe -m pip install --upgrade pip\n"
     ]
    }
   ],
   "source": [
    "%pip install requests"
   ]
  },
  {
   "cell_type": "code",
   "execution_count": null,
   "id": "9a17edf3",
   "metadata": {},
   "outputs": [],
   "source": [
    "import requests\n",
    "import getpass\n",
    "\n",
    "url = getpass.getpass(\"Enter the URL of the document to download: \")\n",
    "\n",
    "doc = requests.get(url)\n",
    "\n",
    "with open(\"doc.pdf\", \"wb\") as f:\n",
    "    f.write(doc.content)"
   ]
  },
  {
   "cell_type": "code",
   "execution_count": 151,
   "id": "02803858",
   "metadata": {},
   "outputs": [],
   "source": [
    "# %pip install --quiet --upgrade langchain-text-splitters langchain-community langgraph\n",
    "# %pip install -qU langchain-google-genai"
   ]
  },
  {
   "cell_type": "code",
   "execution_count": null,
   "id": "20354e5c",
   "metadata": {},
   "outputs": [],
   "source": [
    "import getpass\n",
    "import os\n",
    "\n",
    "os.environ[\"LANGSMITH_TRACING\"] = \"true\"\n",
    "os.environ[\"LANGSMITH_API_KEY\"] = getpass.getpass()"
   ]
  },
  {
   "cell_type": "code",
   "execution_count": null,
   "id": "c2758352",
   "metadata": {},
   "outputs": [],
   "source": [
    "import getpass\n",
    "import os\n",
    "\n",
    "if not os.environ.get(\"GOOGLE_API_KEY\"):\n",
    "  os.environ[\"GOOGLE_API_KEY\"] = getpass.getpass(\"Enter API key for Google Gemini: \")\n",
    "\n",
    "from langchain_google_genai import ChatGoogleGenerativeAI\n",
    "\n",
    "llm = ChatGoogleGenerativeAI(\n",
    "    model=\"gemini-2.5-flash\",\n",
    "    temperature=0,\n",
    "    max_tokens=None,\n",
    "    timeout=None,\n",
    "    max_retries=2,\n",
    ")"
   ]
  },
  {
   "cell_type": "code",
   "execution_count": null,
   "id": "6ceb6859",
   "metadata": {},
   "outputs": [],
   "source": [
    "import getpass\n",
    "import os\n",
    "\n",
    "if not os.environ.get(\"GOOGLE_API_KEY\"):\n",
    "  os.environ[\"GOOGLE_API_KEY\"] = getpass.getpass(\"Enter API key for Google Gemini: \")\n",
    "\n",
    "from langchain_google_genai import ChatGoogleGenerativeAI\n",
    "\n",
    "llm2 = ChatGoogleGenerativeAI(\n",
    "    model=\"gemini-2.5-flash\",\n",
    "    temperature=0,\n",
    "    max_tokens=None,\n",
    "    timeout=None,\n",
    "    max_retries=2,\n",
    ")"
   ]
  },
  {
   "cell_type": "code",
   "execution_count": null,
   "id": "30085de5",
   "metadata": {},
   "outputs": [],
   "source": [
    "import getpass\n",
    "import os\n",
    "\n",
    "if not os.environ.get(\"GOOGLE_API_KEY\"):\n",
    "  os.environ[\"GOOGLE_API_KEY\"] = getpass.getpass(\"Enter API key for Google Gemini: \")\n",
    "\n",
    "from langchain_google_genai import ChatGoogleGenerativeAI\n",
    "\n",
    "llm3 = ChatGoogleGenerativeAI(\n",
    "    model=\"gemini-2.5-flash\",\n",
    "    temperature=0,\n",
    "    max_tokens=None,\n",
    "    timeout=None,\n",
    "    max_retries=2,\n",
    ")"
   ]
  },
  {
   "cell_type": "code",
   "execution_count": 155,
   "id": "89dd75f5",
   "metadata": {},
   "outputs": [],
   "source": [
    "# %pip install -qU langchain-ollama\n",
    "# %pip install -U ollama"
   ]
  },
  {
   "cell_type": "code",
   "execution_count": 156,
   "id": "db1086f9",
   "metadata": {},
   "outputs": [],
   "source": [
    "# from langchain_ollama import ChatOllama\n",
    "\n",
    "# llm = ChatOllama(\n",
    "#     model=\"qwen3:4b\",\n",
    "#     temperature=0,\n",
    "#     # other params...\n",
    "# )"
   ]
  },
  {
   "cell_type": "code",
   "execution_count": 157,
   "id": "6f06ccd7",
   "metadata": {},
   "outputs": [],
   "source": [
    "# %pip install -qU langchain-pinecone\n",
    "# %pip install -qU pinecone"
   ]
  },
  {
   "cell_type": "code",
   "execution_count": 158,
   "id": "cbea30ee",
   "metadata": {},
   "outputs": [],
   "source": [
    "# %pip install -qU langchain-huggingface\n",
    "# %pip install sentence-transformers"
   ]
  },
  {
   "cell_type": "code",
   "execution_count": 159,
   "id": "9a152d24",
   "metadata": {},
   "outputs": [],
   "source": [
    "from langchain_huggingface import HuggingFaceEmbeddings\n",
    "\n",
    "embeddings = HuggingFaceEmbeddings(model_name=\"sentence-transformers/all-mpnet-base-v2\")"
   ]
  },
  {
   "cell_type": "code",
   "execution_count": 160,
   "id": "17026b74",
   "metadata": {},
   "outputs": [],
   "source": [
    "# from langchain_ollama import OllamaEmbeddings\n",
    "\n",
    "# embeddings = OllamaEmbeddings(model=\"nomic-embed-text\")"
   ]
  },
  {
   "cell_type": "code",
   "execution_count": 161,
   "id": "f0e581ac",
   "metadata": {},
   "outputs": [
    {
     "name": "stdout",
     "output_type": "stream",
     "text": [
      "model_name='sentence-transformers/all-mpnet-base-v2' cache_folder=None model_kwargs={} encode_kwargs={} query_encode_kwargs={} multi_process=False show_progress=False\n"
     ]
    }
   ],
   "source": [
    "print(embeddings)"
   ]
  },
  {
   "cell_type": "code",
   "execution_count": null,
   "id": "351f1932",
   "metadata": {},
   "outputs": [
    {
     "name": "stdout",
     "output_type": "stream",
     "text": [
      "{'dimension': 768,\n",
      " 'index_fullness': 0.0,\n",
      " 'metric': 'cosine',\n",
      " 'namespaces': {},\n",
      " 'total_vector_count': 0,\n",
      " 'vector_type': 'dense'}\n",
      "<langchain_pinecone.vectorstores.PineconeVectorStore object at 0x000001DD7A94D4F0>\n"
     ]
    }
   ],
   "source": [
    "from langchain_pinecone import PineconeVectorStore\n",
    "from pinecone import Pinecone\n",
    "import getpass\n",
    "import os\n",
    "\n",
    "if not os.environ.get(\"PINECONE_API_KEY\"):\n",
    "  os.environ[\"PINECONE_API_KEY\"] = getpass.getpass(\"Enter API key for Pinecone: \")\n",
    "\n",
    "pc = Pinecone(os.environ[\"PINECONE_API_KEY\"])\n",
    "index = pc.Index(\"useless\")\n",
    "\n",
    "vector_store = PineconeVectorStore(embedding=embeddings, index=index)\n",
    "\n",
    "print(index.describe_index_stats())\n",
    "print(vector_store)"
   ]
  },
  {
   "cell_type": "code",
   "execution_count": 163,
   "id": "324bebf9",
   "metadata": {},
   "outputs": [],
   "source": [
    "# %pip install -qU langchain-community pymupdf"
   ]
  },
  {
   "cell_type": "code",
   "execution_count": 164,
   "id": "275a0a9e",
   "metadata": {},
   "outputs": [
    {
     "data": {
      "text/plain": [
       "'National Insurance Co. Ltd. \\nPremises No. 18-0374, Plot no. CBD-81,  \\nNew Town, Kolkata - 700156 \\nPage 1 of 25 \\nNational Parivar Mediclaim Plus Policy \\nUIN: NICHLIP25039V032425 \\n \\nNational Insurance Company Limited \\n \\n \\n \\n \\n \\nCIN - U10200WB1906GOI001713 \\nIRDAI Regn. No. – 58 \\n \\n           Issuing Office \\nNational Parivar Mediclaim Plus Policy  \\n \\nWhereas the Proposer designated in the schedule hereto has by a Proposal together with Declaration, which shall be the basis of \\nthis contract and is deemed to be incorporated herein, has applied to National Insurance Company Ltd. (hereinafter called the \\nCompany), for the insurance hereinafter set forth, in respect of person(s)/ family members named in the schedule hereto \\n(hereinafter called the Insured Persons) and has paid the premium as consideration for such insurance. \\n \\n1 PREAMBLE \\nThe Company undertakes that if during the Policy Period, any Insured Person shall suffer any illness or disease (hereinafter called \\nIllness) or sustain any bodily injury due to an Accident (hereinafter called Injury) requiring Hospitalisation of such Insured  \\nPerson(s) for In-Patient Care at any hospital/nursing home (hereinafter called Hospital) or for Day Care Treatment at any Day \\nCare Center or to undergo treatment under Domiciliary Hospitalisation, following the Medical Advice of a duly qualified Medical \\nPractitioner, the Company shall indemnify the Hospital or the Insured, Reasonable and Customary Charges incurred for Medically \\nNecessary Treatment towards the Coverage mentioned herein. \\nProvided further that, the amount payable under the Policy in respect of all such claims during each Policy Year of the Policy \\nPeriod shall be subject to the Definitions, Terms, Exclusions, Conditions contained herein and limits as shown in the Table of \\nBenefits, and shall not exceed the Floater Sum Insured in respect of the Insured family. \\n \\n2 DEFINITIONS \\n2.1 Accident means a sudden, unforeseen and involuntary event caused by external, visible and violent means. \\n \\n2.2 Age / Aged means completed years on last birthday as on Policy commencement date. \\n \\n2.3 AIDS means Acquired Immune Deficiency Syndrome, a condition characterised by a combination of signs and symptoms, \\ncaused by Human Immunodeficiency Virus (HIV), which attacks and weakens the body’s immune system making the HIV-\\npositive person susceptible to life threatening conditions or other conditions, as may be specified from time to time. \\n \\n2.4 Any One Illness means continuous period of illness and it includes relapse within forty five days from the date of last \\nconsultation with the hospital where treatment has been taken. \\n \\n2.5 AYUSH Day Care Centre means and includes Community Health Centre (CHC), Primary Health Centre (PHC), Dispensary, \\nClinic, Polyclinic or any such health centre which is registered with the local authorities, wherever applicable and having \\nfacilities for carrying out treatment procedures and medical or surgical / para-surgical interventions or both under the \\nsupervision of registered AYUSH Medical Practitioner(s)  on day care  basis without in-patient services and must comply with \\nall the following criterion: \\ni. Having qualified registered AYUSH Medical Practitioner in charge round the clock; \\nii. Having dedicated AYUSH therapy sections as required and/or has equipped operation theatre where surgical procedures \\nare to be carried out; \\niii. Maintaining daily records of the patients and making them accessible to the insurance company’s authorized \\nrepresentative. \\n \\n2.6 AYUSH Treatment refers to the medical and / or Hospitalisation treatments given Ayurveda, Yoga and Naturopathy, Unani, \\nSiddha and Homeopathy systems. \\n \\n2.7 AYUSH Hospital is a healthcare facility wherein medical/surgical/para-surgical treatment procedures and interventions are \\ncarried out by AYUSH Medical Practitioner(s) comprising of any of the following: \\na. Central or State Government AYUSH Hospital or \\nb. Teaching hospital attached to AYUSH College recognized by the Central Government/ Central Council of Indian \\nMedicine/ Central Council for Homeopathy; or \\nc. AYUSH Hospital, standalone or co-located with in-patient healthcare facility of any recognized system of medicine, \\nregistered with the local authorities, wherever applicable, and is under the supervision of a qualified registered \\nAYUSH Medical Practitioner and must comply with all the following criterion: \\ni. Having at least 5 in-patient beds; \\nii. Having qualified AYUSH Medical Practitioner in charge round the clock; \\niii. Having dedicated AYUSH therapy sections as required;  \\niv. Maintaining daily records of the patients and making them accessible to the insurance company’s authorized \\nrepresentative \\n \\n2.8 Break in policy means the period of gap that occurs at the end of the existing Policy Period due date, when the premium due \\nfor renewal on a given policy or instalment premium due is not paid on or before the premium renewal date or grace period.'"
      ]
     },
     "execution_count": 164,
     "metadata": {},
     "output_type": "execute_result"
    }
   ],
   "source": [
    "from langchain_community.document_loaders import PyMuPDFLoader\n",
    "\n",
    "file_path = \"./doc.pdf\"\n",
    "loader = PyMuPDFLoader(file_path)\n",
    "\n",
    "docs = loader.load()\n",
    "docs[0].page_content"
   ]
  },
  {
   "cell_type": "code",
   "execution_count": 165,
   "id": "384c561a",
   "metadata": {},
   "outputs": [
    {
     "name": "stdout",
     "output_type": "stream",
     "text": [
      "Split blog post into 144 sub-documents.\n"
     ]
    }
   ],
   "source": [
    "from langchain_text_splitters import RecursiveCharacterTextSplitter\n",
    "\n",
    "text_splitter = RecursiveCharacterTextSplitter(\n",
    "    chunk_size=1000,  # chunk size (characters)\n",
    "    chunk_overlap=200,  # chunk overlap (characters)\n",
    "    add_start_index=True,  # track index in original document\n",
    ")\n",
    "all_splits = text_splitter.split_documents(docs)\n",
    "\n",
    "print(f\"Split blog post into {len(all_splits)} sub-documents.\")"
   ]
  },
  {
   "cell_type": "code",
   "execution_count": 166,
   "id": "3c088e96",
   "metadata": {},
   "outputs": [
    {
     "name": "stdout",
     "output_type": "stream",
     "text": [
      "['bbcd1475-892b-495c-b415-5772cf843c87', '72788e01-2d0c-479c-9972-f4ecc183bed9', '70f12d6f-d21a-401e-ad49-10d320f86162']\n"
     ]
    }
   ],
   "source": [
    "document_ids = vector_store.add_documents(documents=all_splits)\n",
    "\n",
    "print(document_ids[:3])"
   ]
  },
  {
   "cell_type": "code",
   "execution_count": 167,
   "id": "a23600ca",
   "metadata": {},
   "outputs": [],
   "source": [
    "from langchain_core.prompts import PromptTemplate\n",
    "\n",
    "template = \"\"\"Use the following pieces of context to answer the question at the end.\n",
    "If you don't know the answer, just say that you don't know, don't try to make up an answer.\n",
    "Use three sentences maximum and keep the answer as concise as possible.\n",
    "Always say \"thanks for asking!\" at the end of the answer.\n",
    "\n",
    "{context}\n",
    "\n",
    "Question: {question}\n",
    "\n",
    "Helpful Answer:\"\"\"\n",
    "prompt = PromptTemplate.from_template(template)"
   ]
  },
  {
   "cell_type": "code",
   "execution_count": 208,
   "id": "7fb8ab2a",
   "metadata": {},
   "outputs": [
    {
     "data": {
      "text/plain": [
       "{'producer': 'Microsoft® Word LTSC',\n",
       " 'creator': 'Microsoft® Word LTSC',\n",
       " 'creationdate': '2025-02-11T11:39:19+05:30',\n",
       " 'source': './doc.pdf',\n",
       " 'file_path': './doc.pdf',\n",
       " 'total_pages': 25,\n",
       " 'format': 'PDF 1.7',\n",
       " 'title': 'National Parivar Mediclaim Plus Policy (NPMPP)',\n",
       " 'author': 'Avishek Banerjee',\n",
       " 'subject': '',\n",
       " 'keywords': '',\n",
       " 'moddate': '2025-02-11T11:39:19+05:30',\n",
       " 'trapped': '',\n",
       " 'modDate': \"D:20250211113919+05'30'\",\n",
       " 'creationDate': \"D:20250211113919+05'30'\",\n",
       " 'page': 0,\n",
       " 'start_index': 0,\n",
       " 'text': 'National Insurance Co. Ltd. \\nPremises No. 18-0374, Plot no. CBD-81,  \\nNew Town, Kolkata - 700156 \\nPage 1 of 25 \\nNational Parivar Mediclaim Plus Policy \\nUIN: NICHLIP25039V032425 \\n \\nNational Insurance Company Limited \\n \\n \\n \\n \\n \\nCIN - U10200WB1906GOI001713 \\nIRDAI Regn. No. – 58 \\n \\n           Issuing Office \\nNational Parivar Mediclaim Plus Policy  \\n \\nWhereas the Proposer designated in the schedule hereto has by a Proposal together with Declaration, which shall be the basis of \\nthis contract and is deemed to be incorporated herein, has applied to National Insurance Company Ltd. (hereinafter called the \\nCompany), for the insurance hereinafter set forth, in respect of person(s)/ family members named in the schedule hereto \\n(hereinafter called the Insured Persons) and has paid the premium as consideration for such insurance. \\n \\n1 PREAMBLE \\nThe Company undertakes that if during the Policy Period, any Insured Person shall suffer any illness or disease (hereinafter called',\n",
       " 'section': 'beginning'}"
      ]
     },
     "execution_count": 208,
     "metadata": {},
     "output_type": "execute_result"
    }
   ],
   "source": [
    "total_documents = len(all_splits)\n",
    "third = total_documents // 3\n",
    "\n",
    "for i, document in enumerate(all_splits):\n",
    "    if i < third:\n",
    "        document.metadata[\"section\"] = \"beginning\"\n",
    "    elif i < 2 * third:\n",
    "        document.metadata[\"section\"] = \"middle\"\n",
    "    else:\n",
    "        document.metadata[\"section\"] = \"end\"\n",
    "\n",
    "\n",
    "all_splits[0].metadata"
   ]
  },
  {
   "cell_type": "code",
   "execution_count": null,
   "id": "c35b8196",
   "metadata": {},
   "outputs": [],
   "source": [
    "_ = vector_store.add_documents(all_splits)"
   ]
  },
  {
   "cell_type": "code",
   "execution_count": 210,
   "id": "fac62c2f",
   "metadata": {},
   "outputs": [],
   "source": [
    "from typing import Literal\n",
    "from langchain_core.documents import Document\n",
    "from typing_extensions import List, TypedDict\n",
    "from typing_extensions import Annotated\n",
    "\n",
    "class Search(TypedDict):\n",
    "    \"\"\"Search query.\"\"\"\n",
    "\n",
    "    query: Annotated[str, ..., \"Search query to run.\"]\n",
    "    section: Annotated[\n",
    "        Literal[\"beginning\", \"middle\", \"end\"],\n",
    "        ...,\n",
    "        \"Section to query.\",\n",
    "    ]"
   ]
  },
  {
   "cell_type": "code",
   "execution_count": 211,
   "id": "a6acb2fd",
   "metadata": {},
   "outputs": [],
   "source": [
    "from langchain_core.documents import Document\n",
    "from typing_extensions import List, TypedDict\n",
    "\n",
    "class State(TypedDict):\n",
    "    question: str\n",
    "    id: int\n",
    "    query: Search\n",
    "    context: List[Document]\n",
    "    final_context: List[Document]\n",
    "    answer: str"
   ]
  },
  {
   "cell_type": "code",
   "execution_count": null,
   "id": "d958be91",
   "metadata": {},
   "outputs": [],
   "source": [
    "def analyze_query(state: State):\n",
    "    if(state[\"id\"] % 3 == 0):\n",
    "        structured_llm = llm.with_structured_output(Search)\n",
    "        query = structured_llm.invoke(state[\"question\"])\n",
    "        return {\"query\": query}\n",
    "    elif(state[\"id\"] % 3 == 1):\n",
    "        structured_llm2 = llm2.with_structured_output(Search)\n",
    "        query = structured_llm2.invoke(state[\"question\"])\n",
    "        return {\"query\": query}\n",
    "    else:\n",
    "        structured_llm3 = llm3.with_structured_output(Search)\n",
    "        query = structured_llm3.invoke(state[\"question\"])\n",
    "        return {\"query\": query}\n",
    "\n",
    "def retrieve(state: State):\n",
    "    query = state[\"query\"]\n",
    "    pinecone_filter = {\"section\": query[\"section\"]}\n",
    "    retrieved_docs = vector_store.similarity_search(\n",
    "        query[\"query\"],\n",
    "        filter=pinecone_filter,\n",
    "    )\n",
    "    return {\"context\": retrieved_docs}\n",
    "\n",
    "def generate(state: State):\n",
    "    docs_content = \"\\n\\n\".join(item[\"document\"][\"chunk_text\"] for item in state[\"final_context\"])\n",
    "    messages = prompt.invoke({\"question\": state[\"question\"], \"context\": docs_content})\n",
    "    if(state[\"id\"] % 3 == 0):\n",
    "        response = llm.invoke(messages)\n",
    "    elif(state[\"id\"] % 3 == 1):\n",
    "        response = llm2.invoke(messages)\n",
    "    else:\n",
    "        response = llm3.invoke(messages)\n",
    "    return {\"answer\": response.content}"
   ]
  },
  {
   "cell_type": "code",
   "execution_count": null,
   "id": "e8bd9979",
   "metadata": {},
   "outputs": [],
   "source": [
    "## reranking\n",
    "from pinecone import Pinecone\n",
    "\n",
    "if not os.environ.get(\"PINECONE_API_KEY\"):\n",
    "  os.environ[\"PINECONE_API_KEY\"] = getpass.getpass(\"Enter API key for Pinecone: \")\n",
    "\n",
    "pc = Pinecone(os.environ[\"PINECONE_API_KEY\"])\n",
    "\n",
    "# ranked_results = index.search(\n",
    "#     namespace=\"__default__\", \n",
    "#     query={\n",
    "#         \"inputs\": {\"text\": \"Disease prevention\"}, \n",
    "#         \"top_k\": 4\n",
    "#     },\n",
    "#     rerank={\n",
    "#         \"model\": \"bge-reranker-v2-m3\",\n",
    "#         \"top_n\": 2,\n",
    "#         \"rank_fields\": [\"chunk_text\"]\n",
    "#     },\n",
    "#     fields=[\"category\", \"chunk_text\"]\n",
    "# )\n",
    "\n",
    "def reranker(state : State):\n",
    "\n",
    "    documents = []\n",
    "    for doc in state[\"context\"]:\n",
    "        documents.append({\"id\": doc.id, \"chunk_text\": doc.page_content})\n",
    "\n",
    "    ranked_results = pc.inference.rerank(\n",
    "        model=\"bge-reranker-v2-m3\",\n",
    "        query=state[\"question\"],\n",
    "        documents=documents,\n",
    "        top_n=2,\n",
    "        rank_fields=[\"chunk_text\"],\n",
    "        return_documents=True,\n",
    "        parameters={\n",
    "            \"truncate\": \"END\"\n",
    "        }\n",
    "    )\n",
    "\n",
    "    # print(ranked_results)\n",
    "\n",
    "    return {\"final_context\" : ranked_results.data}"
   ]
  },
  {
   "cell_type": "code",
   "execution_count": 225,
   "id": "1c3321c7",
   "metadata": {},
   "outputs": [],
   "source": [
    "from langgraph.graph import START, StateGraph\n",
    "\n",
    "graph_builder = StateGraph(State).add_sequence([analyze_query, retrieve, reranker, generate])\n",
    "graph_builder.add_edge(START, \"analyze_query\")\n",
    "graph = graph_builder.compile()"
   ]
  },
  {
   "cell_type": "code",
   "execution_count": 226,
   "id": "37f75f92",
   "metadata": {},
   "outputs": [
    {
     "data": {
      "image/png": "[encoded data removed]",
      "text/plain": [
       "<IPython.core.display.Image object>"
      ]
     },
     "metadata": {},
     "output_type": "display_data"
    }
   ],
   "source": [
    "from IPython.display import Image, display\n",
    "\n",
    "display(Image(graph.get_graph().draw_mermaid_png()))"
   ]
  },
  {
   "cell_type": "code",
   "execution_count": 227,
   "id": "4ecb4f97",
   "metadata": {},
   "outputs": [],
   "source": [
    "# from langgraph.graph import MessagesState, StateGraph\n",
    "\n",
    "# graph_builder = StateGraph(MessagesState)\n",
    "\n",
    "# print(MessagesState.keys)"
   ]
  },
  {
   "cell_type": "code",
   "execution_count": 228,
   "id": "2c216c04",
   "metadata": {},
   "outputs": [],
   "source": [
    "# from langchain_core.tools import tool\n",
    "\n",
    "# @tool(response_format=\"content_and_artifact\")\n",
    "# def retrieve(query: str):\n",
    "#     \"\"\"Retrieve information related to a query.\"\"\"\n",
    "#     retrieved_docs = vector_store.similarity_search(query, k=2)\n",
    "#     serialized = \"\\n\\n\".join(\n",
    "#         (f\"Source: {doc.metadata}\\nContent: {doc.page_content}\")\n",
    "#         for doc in retrieved_docs\n",
    "#     )\n",
    "#     return serialized, retrieved_docs"
   ]
  },
  {
   "cell_type": "code",
   "execution_count": 229,
   "id": "a9cad422",
   "metadata": {},
   "outputs": [],
   "source": [
    "# from langchain_core.messages import SystemMessage\n",
    "# from langgraph.prebuilt import ToolNode\n",
    "\n",
    "\n",
    "# # Step 1: Generate an AIMessage that may include a tool-call to be sent.\n",
    "# def query_or_respond(state: MessagesState):\n",
    "#     \"\"\"Generate tool call for retrieval or respond.\"\"\"\n",
    "#     llm_with_tools = llm.bind_tools([retrieve])\n",
    "#     response = llm_with_tools.invoke(state[\"question\"])\n",
    "#     # MessagesState appends messages to state instead of overwriting\n",
    "#     return {\"query\": [response]}\n",
    "\n",
    "\n",
    "# # Step 2: Execute the retrieval.\n",
    "# tools = ToolNode([retrieve])\n",
    "\n",
    "\n",
    "# # Step 3: Generate a response using the retrieved content.\n",
    "# def generate(state: MessagesState):\n",
    "#     \"\"\"Generate answer.\"\"\"\n",
    "#     # Get generated ToolMessages\n",
    "#     recent_tool_messages = []\n",
    "#     for message in reversed(state[\"messages\"]):\n",
    "#         if message.type == \"tool\":\n",
    "#             recent_tool_messages.append(message)\n",
    "#         else:\n",
    "#             break\n",
    "#     tool_messages = recent_tool_messages[::-1]\n",
    "\n",
    "#     # Format into prompt\n",
    "#     docs_content = \"\\n\\n\".join(doc.content for doc in tool_messages)\n",
    "#     system_message_content = (\n",
    "#         \"You are an assistant for question-answering tasks. \"\n",
    "#         \"Use the following pieces of retrieved context to answer \"\n",
    "#         \"the question. If you don't know the answer, say that you \"\n",
    "#         \"don't know. Use three sentences maximum and keep the \"\n",
    "#         \"answer concise.\"\n",
    "#         \"\\n\\n\"\n",
    "#         f\"{docs_content}\"\n",
    "#     )\n",
    "#     conversation_messages = [\n",
    "#         message\n",
    "#         for message in state[\"messages\"]\n",
    "#         if message.type in (\"human\", \"system\")\n",
    "#         or (message.type == \"ai\" and not message.tool_calls)\n",
    "#     ]\n",
    "#     prompt = [SystemMessage(system_message_content)] + conversation_messages\n",
    "\n",
    "#     # Run\n",
    "#     response = llm.invoke(prompt)\n",
    "#     return {\"answer\": [response]}"
   ]
  },
  {
   "cell_type": "code",
   "execution_count": 230,
   "id": "a9f50697",
   "metadata": {},
   "outputs": [],
   "source": [
    "# from langgraph.graph import END\n",
    "# from langgraph.prebuilt import ToolNode, tools_condition\n",
    "\n",
    "# graph_builder.add_node(query_or_respond)\n",
    "# graph_builder.add_node(tools)\n",
    "# graph_builder.add_node(generate)\n",
    "\n",
    "# graph_builder.set_entry_point(\"query_or_respond\")\n",
    "# graph_builder.add_conditional_edges(\n",
    "#     \"query_or_respond\",\n",
    "#     tools_condition,\n",
    "#     {END: END, \"tools\": \"tools\"},\n",
    "# )\n",
    "# graph_builder.add_edge(\"tools\", \"generate\")\n",
    "# graph_builder.add_edge(\"generate\", END)\n",
    "\n",
    "# graph = graph_builder.compile()"
   ]
  },
  {
   "cell_type": "code",
   "execution_count": null,
   "id": "f0f4bc6b",
   "metadata": {},
   "outputs": [
    {
     "name": "stdout",
     "output_type": "stream",
     "text": [
      "Context of 0: [Document(id='05261d03-d2d0-4dfd-af42-87132f060968', metadata={'author': 'Avishek Banerjee', 'creationDate': \"D:20250211113919+05'30'\", 'creationdate': '2025-02-11T11:39:19+05:30', 'creator': 'Microsoft® Word LTSC', 'file_path': './doc.pdf', 'format': 'PDF 1.7', 'keywords': '', 'modDate': \"D:20250211113919+05'30'\", 'moddate': '2025-02-11T11:39:19+05:30', 'page': 3.0, 'producer': 'Microsoft® Word LTSC', 'section': 'beginning', 'source': './doc.pdf', 'start_index': 0.0, 'subject': '', 'title': 'National Parivar Mediclaim Plus Policy (NPMPP)', 'total_pages': 25.0, 'trapped': ''}, page_content='National Insurance Co. Ltd. \\nPremises No. 18-0374, Plot no. CBD-81,  \\nNew Town, Kolkata - 700156 \\nPage 4 of 25 \\nNational Parivar Mediclaim Plus Policy \\nUIN: NICHLIP25039V032425 \\n \\n2.39 Notification of Claim means the process of intimating a claim to the Company or TPA through any of the recognized modes \\nof communication. \\n \\n2.40 Out-Patient Treatment means treatment in which the insured person visits a clinic / hospital or associated facility like a \\nconsultation room for diagnosis and treatment based on the advise of a medical practitioner and the insured person is not \\nadmitted as a day care patient or in-patient. \\n \\n2.41 Policy Period means period of one policy year/ two policy years/ three policy years as mentioned in the schedule for which \\nthe Policy is issued. \\n \\n2.42 Policy Year means a period of twelve months beginning from the date of commencement of the policy period and ending on'), Document(id='3c81a046-0d5f-4500-bae5-722565648d34', metadata={'author': 'Avishek Banerjee', 'creationDate': \"D:20250211113919+05'30'\", 'creationdate': '2025-02-11T11:39:19+05:30', 'creator': 'Microsoft® Word LTSC', 'file_path': './doc.pdf', 'format': 'PDF 1.7', 'keywords': '', 'modDate': \"D:20250211113919+05'30'\", 'moddate': '2025-02-11T11:39:19+05:30', 'page': 1.0, 'producer': 'Microsoft® Word LTSC', 'section': 'beginning', 'source': './doc.pdf', 'start_index': 3274.0, 'subject': '', 'title': 'National Parivar Mediclaim Plus Policy (NPMPP)', 'total_pages': 25.0, 'trapped': ''}, page_content='ii. the patient takes treatment at home on account of non availability of bed/ room in a hospital. \\n \\n2.19 Family members means spouse, children and parents of the insured, covered by the Policy. \\n \\n2.20 Floater Sum Insured means the sum insured, as mentioned in the Schedule, available to all the insured persons, for any and \\nall claims made in the aggregate during each policy year. \\n \\n2.21 Grace Period means the specified period of time, immediately following the premium due date during which premium \\npayment can be made to renew or continue a policy in force without loss of continuity benefits pertaining to Waiting Periods \\nand coverage of Pre-Existing Diseases. The Grace Period for payment of the premium shall be thirty days. \\nCoverage shall not be available during the period for which no premium is received. \\n \\n2.22 Hospital means any institution established for in-patient care and day care treatment of disease/ injuries and which has been'), Document(id='2e870b8a-2ca2-4535-a10a-eb9f1bc33c92', metadata={'author': 'Avishek Banerjee', 'creationDate': \"D:20250211113919+05'30'\", 'creationdate': '2025-02-11T11:39:19+05:30', 'creator': 'Microsoft® Word LTSC', 'file_path': './doc.pdf', 'format': 'PDF 1.7', 'keywords': '', 'modDate': \"D:20250211113919+05'30'\", 'moddate': '2025-02-11T11:39:19+05:30', 'page': 0.0, 'producer': 'Microsoft® Word LTSC', 'section': 'beginning', 'source': './doc.pdf', 'start_index': 0.0, 'subject': '', 'title': 'National Parivar Mediclaim Plus Policy (NPMPP)', 'total_pages': 25.0, 'trapped': ''}, page_content='National Insurance Co. Ltd. \\nPremises No. 18-0374, Plot no. CBD-81,  \\nNew Town, Kolkata - 700156 \\nPage 1 of 25 \\nNational Parivar Mediclaim Plus Policy \\nUIN: NICHLIP25039V032425 \\n \\nNational Insurance Company Limited \\n \\n \\n \\n \\n \\nCIN - U10200WB1906GOI001713 \\nIRDAI Regn. No. – 58 \\n \\n           Issuing Office \\nNational Parivar Mediclaim Plus Policy  \\n \\nWhereas the Proposer designated in the schedule hereto has by a Proposal together with Declaration, which shall be the basis of \\nthis contract and is deemed to be incorporated herein, has applied to National Insurance Company Ltd. (hereinafter called the \\nCompany), for the insurance hereinafter set forth, in respect of person(s)/ family members named in the schedule hereto \\n(hereinafter called the Insured Persons) and has paid the premium as consideration for such insurance. \\n \\n1 PREAMBLE \\nThe Company undertakes that if during the Policy Period, any Insured Person shall suffer any illness or disease (hereinafter called'), Document(id='4c7fd8a0-4f05-480c-b31f-93afa81b2223', metadata={'author': 'Avishek Banerjee', 'creationDate': \"D:20250211113919+05'30'\", 'creationdate': '2025-02-11T11:39:19+05:30', 'creator': 'Microsoft® Word LTSC', 'file_path': './doc.pdf', 'format': 'PDF 1.7', 'keywords': '', 'modDate': \"D:20250211113919+05'30'\", 'moddate': '2025-02-11T11:39:19+05:30', 'page': 6.0, 'producer': 'Microsoft® Word LTSC', 'section': 'beginning', 'source': './doc.pdf', 'start_index': 0.0, 'subject': '', 'title': 'National Parivar Mediclaim Plus Policy (NPMPP)', 'total_pages': 25.0, 'trapped': ''}, page_content='National Insurance Co. Ltd. \\nPremises No. 18-0374, Plot no. CBD-81,  \\nNew Town, Kolkata - 700156 \\nPage 7 of 25 \\nNational Parivar Mediclaim Plus Policy \\nUIN: NICHLIP25039V032425 \\n \\nas shown in the Table of Benefits. The female Insured Person should have been continuously covered for at least 24 months before \\navailing this benefit. \\nThe New Born Baby shall be automatically covered from birth under the Sum Insured available to the mother during the \\ncorresponding Policy Period, for up to 3 months of age. On attaining 3 months of age, the New Born Baby shall be covered only if \\nspecifically included in the Policy mid-term and requisite premium paid to the Company. \\n \\nCover \\nMaternity Expenses means; \\na) Medical treatment expenses traceable to childbirth (including complicated deliveries and caesarean sections incurred during \\nHospitalization); \\nb) Expenses towards lawful medical termination of pregnancy during the Policy Period.')]\n",
      "\n",
      "\n",
      "Answer of 0: The grace period for premium payment under the National Parivar Mediclaim Plus Policy is thirty days. This period allows for the renewal or continuation of a policy without losing continuity benefits. However, coverage is not available during the period for which no premium has been received. thanks for asking!\n",
      "\n",
      "Context of 1: [Document(id='6044c513-1c12-4c27-8448-54d8c09ca3b0', metadata={'author': 'Avishek Banerjee', 'creationDate': \"D:20250211113919+05'30'\", 'creationdate': '2025-02-11T11:39:19+05:30', 'creator': 'Microsoft® Word LTSC', 'file_path': './doc.pdf', 'format': 'PDF 1.7', 'keywords': '', 'modDate': \"D:20250211113919+05'30'\", 'moddate': '2025-02-11T11:39:19+05:30', 'page': 3.0, 'producer': 'Microsoft® Word LTSC', 'section': 'beginning', 'source': './doc.pdf', 'start_index': 3969.0, 'subject': '', 'title': 'National Parivar Mediclaim Plus Policy (NPMPP)', 'total_pages': 25.0, 'trapped': ''}, page_content='correction of deformities and defects, diagnosis and cure of diseases, relief of suffering or prolongation of life, performed in a \\nhospital or day care centre by a medical practitioner. \\n \\n2.52 Third Party Administrator (TPA) means any entity, licenced under the IRDA (Third Party Administrators - Health Services) \\nRegulations, 2001 by the Authority, and is engaged, for a fee by the Company for the purpose of providing health services. \\n \\n2.53 Unproven/ Experimental Treatment means treatment, including drug therapy, which is not based on established medical \\npractice in India, is experimental or unproven. \\n \\n2.54 Waiting Period means a period from the inception of this Policy during which specified diseases/treatment is not covered. On \\ncompletion of the period, diseases/treatment shall be covered provided the Policy has been continuously renewed without any \\nbreak.'), Document(id='7bb14039-69c6-4a67-b349-caba91efec7d', metadata={'author': 'Avishek Banerjee', 'creationDate': \"D:20250211113919+05'30'\", 'creationdate': '2025-02-11T11:39:19+05:30', 'creator': 'Microsoft® Word LTSC', 'file_path': './doc.pdf', 'format': 'PDF 1.7', 'keywords': '', 'modDate': \"D:20250211113919+05'30'\", 'moddate': '2025-02-11T11:39:19+05:30', 'page': 3.0, 'producer': 'Microsoft® Word LTSC', 'section': 'beginning', 'source': './doc.pdf', 'start_index': 1576.0, 'subject': '', 'title': 'National Parivar Mediclaim Plus Policy (NPMPP)', 'total_pages': 25.0, 'trapped': ''}, page_content='for the procedures (as listed under PPN package) shall be subject to the rates applicable to PPN package pricing. \\n \\n2.44 Pre existing disease means any condition, ailment, injury or disease \\na) That is/are diagnosed by a physician within 36 months prior to the effective date of the Policy issued by the Company or \\nits reinstatement, or \\nb) For which Medical Advice or treatment was recommended by, or received from, a physician within 36 months prior \\nto the effective date of the Policy issued by the Company or its reinstatement. \\n \\n2.45 Portability means a facility provided to the policyholders (including all members under family cover), to transfer the credits \\ngained for, Pre-Existing Diseases and Specific Waiting Periods from one insurer to another insurer. \\n \\n2.46 Psychiatrist means a medical practitioner possessing a post-graduate degree or diploma in psychiatry awarded by an university'), Document(id='3c81a046-0d5f-4500-bae5-722565648d34', metadata={'author': 'Avishek Banerjee', 'creationDate': \"D:20250211113919+05'30'\", 'creationdate': '2025-02-11T11:39:19+05:30', 'creator': 'Microsoft® Word LTSC', 'file_path': './doc.pdf', 'format': 'PDF 1.7', 'keywords': '', 'modDate': \"D:20250211113919+05'30'\", 'moddate': '2025-02-11T11:39:19+05:30', 'page': 1.0, 'producer': 'Microsoft® Word LTSC', 'section': 'beginning', 'source': './doc.pdf', 'start_index': 3274.0, 'subject': '', 'title': 'National Parivar Mediclaim Plus Policy (NPMPP)', 'total_pages': 25.0, 'trapped': ''}, page_content='ii. the patient takes treatment at home on account of non availability of bed/ room in a hospital. \\n \\n2.19 Family members means spouse, children and parents of the insured, covered by the Policy. \\n \\n2.20 Floater Sum Insured means the sum insured, as mentioned in the Schedule, available to all the insured persons, for any and \\nall claims made in the aggregate during each policy year. \\n \\n2.21 Grace Period means the specified period of time, immediately following the premium due date during which premium \\npayment can be made to renew or continue a policy in force without loss of continuity benefits pertaining to Waiting Periods \\nand coverage of Pre-Existing Diseases. The Grace Period for payment of the premium shall be thirty days. \\nCoverage shall not be available during the period for which no premium is received. \\n \\n2.22 Hospital means any institution established for in-patient care and day care treatment of disease/ injuries and which has been'), Document(id='3718f889-f62c-49d4-a0ce-74d7b3f9c1f7', metadata={'author': 'Avishek Banerjee', 'creationDate': \"D:20250211113919+05'30'\", 'creationdate': '2025-02-11T11:39:19+05:30', 'creator': 'Microsoft® Word LTSC', 'file_path': './doc.pdf', 'format': 'PDF 1.7', 'keywords': '', 'modDate': \"D:20250211113919+05'30'\", 'moddate': '2025-02-11T11:39:19+05:30', 'page': 0.0, 'producer': 'Microsoft® Word LTSC', 'section': 'beginning', 'source': './doc.pdf', 'start_index': 1678.0, 'subject': '', 'title': 'National Parivar Mediclaim Plus Policy (NPMPP)', 'total_pages': 25.0, 'trapped': ''}, page_content='Period shall be subject to the Definitions, Terms, Exclusions, Conditions contained herein and limits as shown in the Table of \\nBenefits, and shall not exceed the Floater Sum Insured in respect of the Insured family. \\n \\n2 DEFINITIONS \\n2.1 Accident means a sudden, unforeseen and involuntary event caused by external, visible and violent means. \\n \\n2.2 Age / Aged means completed years on last birthday as on Policy commencement date. \\n \\n2.3 AIDS means Acquired Immune Deficiency Syndrome, a condition characterised by a combination of signs and symptoms, \\ncaused by Human Immunodeficiency Virus (HIV), which attacks and weakens the body’s immune system making the HIV-\\npositive person susceptible to life threatening conditions or other conditions, as may be specified from time to time. \\n \\n2.4 Any One Illness means continuous period of illness and it includes relapse within forty five days from the date of last \\nconsultation with the hospital where treatment has been taken.')]\n",
      "\n",
      "\n",
      "Answer of 1: I don't know the answer based on the provided context. The text defines pre-existing diseases and mentions waiting periods in relation to portability and grace periods, but it does not specify the duration of the waiting period for pre-existing diseases to be covered.\n",
      "thanks for asking!\n",
      "\n",
      "Context of 2: [Document(id='96bb66d8-898f-4e57-928b-c4eb37dbe078', metadata={'author': 'Avishek Banerjee', 'creationDate': \"D:20250211113919+05'30'\", 'creationdate': '2025-02-11T11:39:19+05:30', 'creator': 'Microsoft® Word LTSC', 'file_path': './doc.pdf', 'format': 'PDF 1.7', 'keywords': '', 'modDate': \"D:20250211113919+05'30'\", 'moddate': '2025-02-11T11:39:19+05:30', 'page': 6.0, 'producer': 'Microsoft® Word LTSC', 'section': 'beginning', 'source': './doc.pdf', 'start_index': 1657.0, 'subject': '', 'title': 'National Parivar Mediclaim Plus Policy (NPMPP)', 'total_pages': 25.0, 'trapped': ''}, page_content='the Policy and its Renewals. \\n4. More than one delivery or lawful medical termination of pregnancy during a single Policy Period. \\n5. Maternity Expenses of Surrogate Mother, unless claim is admitted under Section 3.1.15 (Infertility) \\n6. Ectopic pregnancy \\n7. Pre and post hospitalisation expenses, other than pre and post natal treatment. \\n \\n3.1.15 Infertility \\nThe Company shall pay to the hospital or reimburse the insured, in respect of the medical expenses of the insured and his spouse, \\nif covered by the Policy, for treatment undergone as an in-patient or as a day care treatment, for procedures and/ or treatment of \\ninfertility, provided the Policy has been continuously in force for twenty four (24) months from the inception of the Policy or from \\nthe date of inclusion of the insured person, whichever is later. The medical expenses for either or both the insured person shall be \\nsubject to the limit as shown in the Table of Benefits.   \\n \\nExclusions'), Document(id='4c7fd8a0-4f05-480c-b31f-93afa81b2223', metadata={'author': 'Avishek Banerjee', 'creationDate': \"D:20250211113919+05'30'\", 'creationdate': '2025-02-11T11:39:19+05:30', 'creator': 'Microsoft® Word LTSC', 'file_path': './doc.pdf', 'format': 'PDF 1.7', 'keywords': '', 'modDate': \"D:20250211113919+05'30'\", 'moddate': '2025-02-11T11:39:19+05:30', 'page': 6.0, 'producer': 'Microsoft® Word LTSC', 'section': 'beginning', 'source': './doc.pdf', 'start_index': 0.0, 'subject': '', 'title': 'National Parivar Mediclaim Plus Policy (NPMPP)', 'total_pages': 25.0, 'trapped': ''}, page_content='National Insurance Co. Ltd. \\nPremises No. 18-0374, Plot no. CBD-81,  \\nNew Town, Kolkata - 700156 \\nPage 7 of 25 \\nNational Parivar Mediclaim Plus Policy \\nUIN: NICHLIP25039V032425 \\n \\nas shown in the Table of Benefits. The female Insured Person should have been continuously covered for at least 24 months before \\navailing this benefit. \\nThe New Born Baby shall be automatically covered from birth under the Sum Insured available to the mother during the \\ncorresponding Policy Period, for up to 3 months of age. On attaining 3 months of age, the New Born Baby shall be covered only if \\nspecifically included in the Policy mid-term and requisite premium paid to the Company. \\n \\nCover \\nMaternity Expenses means; \\na) Medical treatment expenses traceable to childbirth (including complicated deliveries and caesarean sections incurred during \\nHospitalization); \\nb) Expenses towards lawful medical termination of pregnancy during the Policy Period.'), Document(id='5d761cc3-82cd-4f5f-b52a-d0ec8c147b05', metadata={'author': 'Avishek Banerjee', 'creationDate': \"D:20250211113919+05'30'\", 'creationdate': '2025-02-11T11:39:19+05:30', 'creator': 'Microsoft® Word LTSC', 'file_path': './doc.pdf', 'format': 'PDF 1.7', 'keywords': '', 'modDate': \"D:20250211113919+05'30'\", 'moddate': '2025-02-11T11:39:19+05:30', 'page': 6.0, 'producer': 'Microsoft® Word LTSC', 'section': 'beginning', 'source': './doc.pdf', 'start_index': 2551.0, 'subject': '', 'title': 'National Parivar Mediclaim Plus Policy (NPMPP)', 'total_pages': 25.0, 'trapped': ''}, page_content='subject to the limit as shown in the Table of Benefits.   \\n \\nExclusions \\nThe Company shall not be liable to make any payment in respect of any expenses incurred in connection with or in respect of \\n1. Insured and insured persons above forty five years of age. \\n2. Diagnostic tests related to infertility \\n3. Reversing a tubal ligation or vasectomy \\n4. Preserving and storing sperms, eggs and embryos \\n5. An egg donor or sperm donor \\n6. Experimental treatments \\n7. Any disease/ injury, other than traceable to maternity, of the surrogate mother. \\n  \\nConditions \\n1. Expenses for advanced procedures, including IVF, GIFT, ZIFT or ICSI, shall be payable only if the Insured person has been \\nunable to attain or sustain a successful pregnancy through reasonable, and medically necessary infertility treatment.  \\n2. Maternity expenses of the surrogate mother shall be payable under Section 3.1.14 (Maternity). Legal affidavit regarding \\nintimation of surrogacy shall be submitted to the Company.'), Document(id='d391d9e4-a412-43d3-9bfe-906f40129060', metadata={'author': 'Avishek Banerjee', 'creationDate': \"D:20250211113919+05'30'\", 'creationdate': '2025-02-11T11:39:19+05:30', 'creator': 'Microsoft® Word LTSC', 'file_path': './doc.pdf', 'format': 'PDF 1.7', 'keywords': '', 'modDate': \"D:20250211113919+05'30'\", 'moddate': '2025-02-11T11:39:19+05:30', 'page': 6.0, 'producer': 'Microsoft® Word LTSC', 'section': 'beginning', 'source': './doc.pdf', 'start_index': 835.0, 'subject': '', 'title': 'National Parivar Mediclaim Plus Policy (NPMPP)', 'total_pages': 25.0, 'trapped': ''}, page_content='Hospitalization); \\nb) Expenses towards lawful medical termination of pregnancy during the Policy Period. \\nNote: Ectopic pregnancy is covered under ‘In-patient treatment’, provided such pregnancy is established by medical reports. \\n  \\nExclusions \\nThe Company shall not be liable to make any payment under the cover in respect of Maternity Expenses incurred in connection with \\nor in respect of: \\n1. Covered female Insured Person below eighteen (18) years and above forty-five (45) years of age. \\n2. Delivery or termination within a Waiting Period of twenty-four (24) months. However, the Waiting Period may be waived \\nonly in the case of delivery, miscarriage or abortion induced by accident.  \\n3. Delivery or lawful medical termination of pregnancy limited to two deliveries or terminations or either has been paid under \\nthe Policy and its Renewals. \\n4. More than one delivery or lawful medical termination of pregnancy during a single Policy Period.')]\n",
      "\n",
      "\n",
      "Answer of 2: Yes, this policy covers maternity expenses, including medical treatment for childbirth and lawful medical termination of pregnancy. Coverage is subject to conditions such as the female insured being between 18 and 45 years old, a 24-month waiting period (waived for accident-induced events), and a limit of two deliveries/terminations in total and one per policy period. Additionally, the female insured must have been continuously covered for at least 24 months to avail this benefit. thanks for asking!\n",
      "\n",
      "Context of 3: [Document(id='2f7c541d-637f-4680-8f08-ce2c932d591d', metadata={'author': 'Avishek Banerjee', 'creationDate': \"D:20250211113919+05'30'\", 'creationdate': '2025-02-11T11:39:19+05:30', 'creator': 'Microsoft® Word LTSC', 'file_path': './doc.pdf', 'format': 'PDF 1.7', 'keywords': '', 'modDate': \"D:20250211113919+05'30'\", 'moddate': '2025-02-11T11:39:19+05:30', 'page': 4.0, 'producer': 'Microsoft® Word LTSC', 'section': 'beginning', 'source': './doc.pdf', 'start_index': 1518.0, 'subject': '', 'title': 'National Parivar Mediclaim Plus Policy (NPMPP)', 'total_pages': 25.0, 'trapped': ''}, page_content='Note: \\nListed procedures and Preferred Provider Network list are dynamic in nature, and will be updated in the Company’s website from \\ntime to time. \\n \\n \\n3.1.1.2 Limit for Cataract Surgery  \\nThe Company’s liability for cataract surgery shall be up to the limit as shown in the Table of Benefits, for Plan A only. However, \\nthe limit shall not apply if the treatment is undergone for a listed procedure in a Preferred Provider Network (PPN) as a package. \\n \\n3.1.1.3 Treatment related to participation as a non-professional in hazardous or adventure sports \\nExpenses related to treatment necessitated due to participation as a non-professional in hazardous or adventure sports, subject to \\nMaximum amount admissible for Any One Illness shall be lower of 25% of Sum Insured. \\n \\n3.1.2 Pre Hospitalisation \\nThe Company shall indemnify the medical expenses incurred up to thirty days immediately before the insured person is hospitalised, \\nprovided that: \\ni.'), Document(id='4bd7c5c8-789f-4fbb-acae-f5dc659e12e3', metadata={'author': 'Avishek Banerjee', 'creationDate': \"D:20250211113919+05'30'\", 'creationdate': '2025-02-11T11:39:19+05:30', 'creator': 'Microsoft® Word LTSC', 'file_path': './doc.pdf', 'format': 'PDF 1.7', 'keywords': '', 'modDate': \"D:20250211113919+05'30'\", 'moddate': '2025-02-11T11:39:19+05:30', 'page': 4.0, 'producer': 'Microsoft® Word LTSC', 'section': 'beginning', 'source': './doc.pdf', 'start_index': 805.0, 'subject': '', 'title': 'National Parivar Mediclaim Plus Policy (NPMPP)', 'total_pages': 25.0, 'trapped': ''}, page_content='vii. Dental treatment, necessitated due to an injury \\nviii. Plastic surgery, necessitated due to disease or injury \\nix. Hormone replacement therapy, if medically necessary \\nx. Vitamins and tonics, forming part of treatment for disease/injury as certified by the attending medical practitioner \\nxi. Circumcision, necessitated for treatment of a disease or injury \\n \\n3.1.1.1 Limit for Room Charges and Intensive Care Unit Charges  \\nRoom charges and intensive care unit charges per day shall be payable up to the limit as shown in the Table of Benefits, for Plan A \\nonly. However, the limit shall not apply if the treatment is undergone for a listed procedure in a Preferred Provider Network (PPN) \\nas a package. \\n \\nNote: \\nListed procedures and Preferred Provider Network list are dynamic in nature, and will be updated in the Company’s website from \\ntime to time. \\n \\n \\n3.1.1.2 Limit for Cataract Surgery'), Document(id='6044c513-1c12-4c27-8448-54d8c09ca3b0', metadata={'author': 'Avishek Banerjee', 'creationDate': \"D:20250211113919+05'30'\", 'creationdate': '2025-02-11T11:39:19+05:30', 'creator': 'Microsoft® Word LTSC', 'file_path': './doc.pdf', 'format': 'PDF 1.7', 'keywords': '', 'modDate': \"D:20250211113919+05'30'\", 'moddate': '2025-02-11T11:39:19+05:30', 'page': 3.0, 'producer': 'Microsoft® Word LTSC', 'section': 'beginning', 'source': './doc.pdf', 'start_index': 3969.0, 'subject': '', 'title': 'National Parivar Mediclaim Plus Policy (NPMPP)', 'total_pages': 25.0, 'trapped': ''}, page_content='correction of deformities and defects, diagnosis and cure of diseases, relief of suffering or prolongation of life, performed in a \\nhospital or day care centre by a medical practitioner. \\n \\n2.52 Third Party Administrator (TPA) means any entity, licenced under the IRDA (Third Party Administrators - Health Services) \\nRegulations, 2001 by the Authority, and is engaged, for a fee by the Company for the purpose of providing health services. \\n \\n2.53 Unproven/ Experimental Treatment means treatment, including drug therapy, which is not based on established medical \\npractice in India, is experimental or unproven. \\n \\n2.54 Waiting Period means a period from the inception of this Policy during which specified diseases/treatment is not covered. On \\ncompletion of the period, diseases/treatment shall be covered provided the Policy has been continuously renewed without any \\nbreak.'), Document(id='3c81a046-0d5f-4500-bae5-722565648d34', metadata={'author': 'Avishek Banerjee', 'creationDate': \"D:20250211113919+05'30'\", 'creationdate': '2025-02-11T11:39:19+05:30', 'creator': 'Microsoft® Word LTSC', 'file_path': './doc.pdf', 'format': 'PDF 1.7', 'keywords': '', 'modDate': \"D:20250211113919+05'30'\", 'moddate': '2025-02-11T11:39:19+05:30', 'page': 1.0, 'producer': 'Microsoft® Word LTSC', 'section': 'beginning', 'source': './doc.pdf', 'start_index': 3274.0, 'subject': '', 'title': 'National Parivar Mediclaim Plus Policy (NPMPP)', 'total_pages': 25.0, 'trapped': ''}, page_content='ii. the patient takes treatment at home on account of non availability of bed/ room in a hospital. \\n \\n2.19 Family members means spouse, children and parents of the insured, covered by the Policy. \\n \\n2.20 Floater Sum Insured means the sum insured, as mentioned in the Schedule, available to all the insured persons, for any and \\nall claims made in the aggregate during each policy year. \\n \\n2.21 Grace Period means the specified period of time, immediately following the premium due date during which premium \\npayment can be made to renew or continue a policy in force without loss of continuity benefits pertaining to Waiting Periods \\nand coverage of Pre-Existing Diseases. The Grace Period for payment of the premium shall be thirty days. \\nCoverage shall not be available during the period for which no premium is received. \\n \\n2.22 Hospital means any institution established for in-patient care and day care treatment of disease/ injuries and which has been')]\n",
      "\n",
      "\n",
      "Answer of 3: I don't know the answer based on the provided context. The text discusses the financial limits for cataract surgery but does not mention any waiting period. thanks for asking!\n",
      "\n",
      "Context of 4: [Document(id='940c0619-b1e3-40af-bfde-42227f40b292', metadata={'author': 'Avishek Banerjee', 'creationDate': \"D:20250211113919+05'30'\", 'creationdate': '2025-02-11T11:39:19+05:30', 'creator': 'Microsoft® Word LTSC', 'file_path': './doc.pdf', 'format': 'PDF 1.7', 'keywords': '', 'modDate': \"D:20250211113919+05'30'\", 'moddate': '2025-02-11T11:39:19+05:30', 'page': 5.0, 'producer': 'Microsoft® Word LTSC', 'section': 'beginning', 'source': './doc.pdf', 'start_index': 1585.0, 'subject': '', 'title': 'National Parivar Mediclaim Plus Policy (NPMPP)', 'total_pages': 25.0, 'trapped': ''}, page_content='transplant. \\n  \\nExclusions \\nThe Company shall not be liable to make payment for any claim under this Cover which arises for or in connection with any of the \\nfollowing: \\ni. Pre-hospitalization Medical Expenses or Post- Hospitalization Medical Expenses of the organ donor. \\nii. Costs directly or indirectly associated with the acquisition of the donor’s organ. \\niii. Medical Expenses where the organ transplant is experimental or investigational. \\niv. Any medical treatment or complication in respect of the donor, consequent to harvesting. \\nv. Any expenses related to organ transportation or preservation. \\n \\n3.1.8 Hospital Cash \\nThe Company shall pay the insured a daily hospital cash allowance up to the limit as shown in the Table of Benefits for a maximum \\nof five days, provided: \\ni. \\nthe hospitalisation exceeds three days. \\nii. a claim has been admitted under In-patient Treatment Section'), Document(id='3865f1b0-52f9-4cb2-9a76-728a5975963a', metadata={'author': 'Avishek Banerjee', 'creationDate': \"D:20250211113919+05'30'\", 'creationdate': '2025-02-11T11:39:19+05:30', 'creator': 'Microsoft® Word LTSC', 'file_path': './doc.pdf', 'format': 'PDF 1.7', 'keywords': '', 'modDate': \"D:20250211113919+05'30'\", 'moddate': '2025-02-11T11:39:19+05:30', 'page': 5.0, 'producer': 'Microsoft® Word LTSC', 'section': 'beginning', 'source': './doc.pdf', 'start_index': 787.0, 'subject': '', 'title': 'National Parivar Mediclaim Plus Policy (NPMPP)', 'total_pages': 25.0, 'trapped': ''}, page_content=\"Policy Schedule in any AYUSH Hospital. \\n \\n \\n3.1.7 Organ Donor’s Medical Expenses \\nOrgan Donor's Hospitalisation Expenses \\nThe Company shall indemnify the Medical Expenses incurred in respect of an organ donor’s Hospitalisation during the Policy \\nPeriod for harvesting of the organ donated to an Insured Person, provided that: \\ni. The organ donation confirms to the Transplantation of Human Organs Act 1994 (and its amendments from time to time)  \\nii. The organ is used for an Insured Person and the Insured Person has been medically advised to undergo an organ transplant \\niii. The Medical Expenses shall be incurred in respect of the organ donor as an in-patient in a Hospital. \\niv. Claim has been admitted under In-patient Treatment Section in respect of the Insured Person undergoing the organ \\ntransplant. \\n  \\nExclusions \\nThe Company shall not be liable to make payment for any claim under this Cover which arises for or in connection with any of the \\nfollowing:\"), Document(id='c432dc1f-af63-461f-ace7-c90c2abe3c62', metadata={'author': 'Avishek Banerjee', 'creationDate': \"D:20250211113919+05'30'\", 'creationdate': '2025-02-11T11:39:19+05:30', 'creator': 'Microsoft® Word LTSC', 'file_path': './doc.pdf', 'format': 'PDF 1.7', 'keywords': '', 'modDate': \"D:20250211113919+05'30'\", 'moddate': '2025-02-11T11:39:19+05:30', 'page': 5.0, 'producer': 'Microsoft® Word LTSC', 'section': 'beginning', 'source': './doc.pdf', 'start_index': 0.0, 'subject': '', 'title': 'National Parivar Mediclaim Plus Policy (NPMPP)', 'total_pages': 25.0, 'trapped': ''}, page_content=\"National Insurance Co. Ltd. \\nPremises No. 18-0374, Plot no. CBD-81,  \\nNew Town, Kolkata - 700156 \\nPage 6 of 25 \\nNational Parivar Mediclaim Plus Policy \\nUIN: NICHLIP25039V032425 \\n \\n3.1.5 Day Care Procedure \\nThe Company shall indemnify the Medical Expenses (including Pre and Post Hospitalisation Expenses) for Day Care Treatments \\nrequiring Hospitalization as an In-Patient for less than 24 hours undergone by the Insured Person in a Hospital/ Day Care Centre, \\nbut not in the Outpatient department of a Hospital. \\n3.1.6 AYUSH Treatment \\nThe Company shall indemnify Medical Expenses incurred for Inpatient Care treatment under Ayurveda, Yoga and Naturopathy, \\nUnani, Siddha and Homeopathy systems of medicines during each Policy Period up to the limit of Sum Insured as specified in the \\nPolicy Schedule in any AYUSH Hospital. \\n \\n \\n3.1.7 Organ Donor’s Medical Expenses \\nOrgan Donor's Hospitalisation Expenses\"), Document(id='0521db95-4a6e-4377-b9a3-4a33bd9f5ee3', metadata={'author': 'Avishek Banerjee', 'creationDate': \"D:20250211113919+05'30'\", 'creationdate': '2025-02-11T11:39:19+05:30', 'creator': 'Microsoft® Word LTSC', 'file_path': './doc.pdf', 'format': 'PDF 1.7', 'keywords': '', 'modDate': \"D:20250211113919+05'30'\", 'moddate': '2025-02-11T11:39:19+05:30', 'page': 4.0, 'producer': 'Microsoft® Word LTSC', 'section': 'beginning', 'source': './doc.pdf', 'start_index': 0.0, 'subject': '', 'title': 'National Parivar Mediclaim Plus Policy (NPMPP)', 'total_pages': 25.0, 'trapped': ''}, page_content='National Insurance Co. Ltd. \\nPremises No. 18-0374, Plot no. CBD-81,  \\nNew Town, Kolkata - 700156 \\nPage 5 of 25 \\nNational Parivar Mediclaim Plus Policy \\nUIN: NICHLIP25039V032425 \\n \\n3 BENEFITS COVERED UNDER THE POLICY \\n3.1COVERAGE \\n3.1.1 In-patient Treatment \\nThe Company shall indemnify the medical expenses for: \\ni. \\nRoom charges and intensive care unit charges (including diet charges, nursing care by qualified nurse, RMO charges, \\nadministration charges for IV fluids/blood transfusion/injection), subject to limit as per Section 3.1.1.1 \\nii. Medical practitioner(s) \\niii. Anaesthesia, blood, oxygen, operation theatre charges, surgical appliances \\niv. Medicines and drugs  \\nv. Diagnostic procedures \\nvi. Prosthetics and other devices or equipment if implanted internally during a surgical procedure. \\nvii. Dental treatment, necessitated due to an injury \\nviii. Plastic surgery, necessitated due to disease or injury \\nix. Hormone replacement therapy, if medically necessary')]\n",
      "\n",
      "\n",
      "Answer of 4: Yes, the policy covers medical expenses for an organ donor's hospitalization during the policy period for harvesting the organ donated to an insured person, provided certain conditions are met. However, specific exclusions apply, such as pre/post-hospitalization expenses, costs associated with organ acquisition, and any medical treatment or complication for the donor consequent to harvesting.\n",
      "thanks for asking!\n",
      "\n",
      "Context of 5: [Document(id='05261d03-d2d0-4dfd-af42-87132f060968', metadata={'author': 'Avishek Banerjee', 'creationDate': \"D:20250211113919+05'30'\", 'creationdate': '2025-02-11T11:39:19+05:30', 'creator': 'Microsoft® Word LTSC', 'file_path': './doc.pdf', 'format': 'PDF 1.7', 'keywords': '', 'modDate': \"D:20250211113919+05'30'\", 'moddate': '2025-02-11T11:39:19+05:30', 'page': 3.0, 'producer': 'Microsoft® Word LTSC', 'section': 'beginning', 'source': './doc.pdf', 'start_index': 0.0, 'subject': '', 'title': 'National Parivar Mediclaim Plus Policy (NPMPP)', 'total_pages': 25.0, 'trapped': ''}, page_content='National Insurance Co. Ltd. \\nPremises No. 18-0374, Plot no. CBD-81,  \\nNew Town, Kolkata - 700156 \\nPage 4 of 25 \\nNational Parivar Mediclaim Plus Policy \\nUIN: NICHLIP25039V032425 \\n \\n2.39 Notification of Claim means the process of intimating a claim to the Company or TPA through any of the recognized modes \\nof communication. \\n \\n2.40 Out-Patient Treatment means treatment in which the insured person visits a clinic / hospital or associated facility like a \\nconsultation room for diagnosis and treatment based on the advise of a medical practitioner and the insured person is not \\nadmitted as a day care patient or in-patient. \\n \\n2.41 Policy Period means period of one policy year/ two policy years/ three policy years as mentioned in the schedule for which \\nthe Policy is issued. \\n \\n2.42 Policy Year means a period of twelve months beginning from the date of commencement of the policy period and ending on'), Document(id='2e870b8a-2ca2-4535-a10a-eb9f1bc33c92', metadata={'author': 'Avishek Banerjee', 'creationDate': \"D:20250211113919+05'30'\", 'creationdate': '2025-02-11T11:39:19+05:30', 'creator': 'Microsoft® Word LTSC', 'file_path': './doc.pdf', 'format': 'PDF 1.7', 'keywords': '', 'modDate': \"D:20250211113919+05'30'\", 'moddate': '2025-02-11T11:39:19+05:30', 'page': 0.0, 'producer': 'Microsoft® Word LTSC', 'section': 'beginning', 'source': './doc.pdf', 'start_index': 0.0, 'subject': '', 'title': 'National Parivar Mediclaim Plus Policy (NPMPP)', 'total_pages': 25.0, 'trapped': ''}, page_content='National Insurance Co. Ltd. \\nPremises No. 18-0374, Plot no. CBD-81,  \\nNew Town, Kolkata - 700156 \\nPage 1 of 25 \\nNational Parivar Mediclaim Plus Policy \\nUIN: NICHLIP25039V032425 \\n \\nNational Insurance Company Limited \\n \\n \\n \\n \\n \\nCIN - U10200WB1906GOI001713 \\nIRDAI Regn. No. – 58 \\n \\n           Issuing Office \\nNational Parivar Mediclaim Plus Policy  \\n \\nWhereas the Proposer designated in the schedule hereto has by a Proposal together with Declaration, which shall be the basis of \\nthis contract and is deemed to be incorporated herein, has applied to National Insurance Company Ltd. (hereinafter called the \\nCompany), for the insurance hereinafter set forth, in respect of person(s)/ family members named in the schedule hereto \\n(hereinafter called the Insured Persons) and has paid the premium as consideration for such insurance. \\n \\n1 PREAMBLE \\nThe Company undertakes that if during the Policy Period, any Insured Person shall suffer any illness or disease (hereinafter called'), Document(id='c768d2ee-d547-417d-8744-dc1728ab5444', metadata={'author': 'Avishek Banerjee', 'creationDate': \"D:20250211113919+05'30'\", 'creationdate': '2025-02-11T11:39:19+05:30', 'creator': 'Microsoft® Word LTSC', 'file_path': './doc.pdf', 'format': 'PDF 1.7', 'keywords': '', 'modDate': \"D:20250211113919+05'30'\", 'moddate': '2025-02-11T11:39:19+05:30', 'page': 1.0, 'producer': 'Microsoft® Word LTSC', 'section': 'beginning', 'source': './doc.pdf', 'start_index': 0.0, 'subject': '', 'title': 'National Parivar Mediclaim Plus Policy (NPMPP)', 'total_pages': 25.0, 'trapped': ''}, page_content='National Insurance Co. Ltd. \\nPremises No. 18-0374, Plot no. CBD-81,  \\nNew Town, Kolkata - 700156 \\nPage 2 of 25 \\nNational Parivar Mediclaim Plus Policy \\nUIN: NICHLIP25039V032425 \\n \\n2.9 Cashless Facility means a facility extended by the Company to the Insured where the payments of the costs of treatment \\nundergone by the Insured in accordance with the Policy terms and conditions, are directly made to the Network Provider or a \\nNon Network Provider to the extent pre-authorization approved. \\n \\n2.10 Condition Precedent means a Policy term or condition upon which the Company’s liability by the Policy is conditional upon. \\n \\n2.11 Contract means prospectus, proposal, Policy, and the policy schedule. Any alteration with the mutual consent of the insured \\nperson and the insurer can be made only by a duly signed and sealed endorsement on the Policy. \\n \\n2.12 Congenital anomaly refers to a condition(s) which is present since birth, and which is abnormal with reference to form,'), Document(id='4c7fd8a0-4f05-480c-b31f-93afa81b2223', metadata={'author': 'Avishek Banerjee', 'creationDate': \"D:20250211113919+05'30'\", 'creationdate': '2025-02-11T11:39:19+05:30', 'creator': 'Microsoft® Word LTSC', 'file_path': './doc.pdf', 'format': 'PDF 1.7', 'keywords': '', 'modDate': \"D:20250211113919+05'30'\", 'moddate': '2025-02-11T11:39:19+05:30', 'page': 6.0, 'producer': 'Microsoft® Word LTSC', 'section': 'beginning', 'source': './doc.pdf', 'start_index': 0.0, 'subject': '', 'title': 'National Parivar Mediclaim Plus Policy (NPMPP)', 'total_pages': 25.0, 'trapped': ''}, page_content='National Insurance Co. Ltd. \\nPremises No. 18-0374, Plot no. CBD-81,  \\nNew Town, Kolkata - 700156 \\nPage 7 of 25 \\nNational Parivar Mediclaim Plus Policy \\nUIN: NICHLIP25039V032425 \\n \\nas shown in the Table of Benefits. The female Insured Person should have been continuously covered for at least 24 months before \\navailing this benefit. \\nThe New Born Baby shall be automatically covered from birth under the Sum Insured available to the mother during the \\ncorresponding Policy Period, for up to 3 months of age. On attaining 3 months of age, the New Born Baby shall be covered only if \\nspecifically included in the Policy mid-term and requisite premium paid to the Company. \\n \\nCover \\nMaternity Expenses means; \\na) Medical treatment expenses traceable to childbirth (including complicated deliveries and caesarean sections incurred during \\nHospitalization); \\nb) Expenses towards lawful medical termination of pregnancy during the Policy Period.')]\n",
      "\n",
      "\n",
      "Answer of 5: I don't know the answer.\n",
      "thanks for asking!\n",
      "\n",
      "Context of 6: [Document(id='e57e3b4b-a3e3-4d2b-a560-b09597df209b', metadata={'author': 'Avishek Banerjee', 'creationDate': \"D:20250211113919+05'30'\", 'creationdate': '2025-02-11T11:39:19+05:30', 'creator': 'Microsoft® Word LTSC', 'file_path': './doc.pdf', 'format': 'PDF 1.7', 'keywords': '', 'modDate': \"D:20250211113919+05'30'\", 'moddate': '2025-02-11T11:39:19+05:30', 'page': 5.0, 'producer': 'Microsoft® Word LTSC', 'section': 'beginning', 'source': './doc.pdf', 'start_index': 3987.0, 'subject': '', 'title': 'National Parivar Mediclaim Plus Policy (NPMPP)', 'total_pages': 25.0, 'trapped': ''}, page_content='For the purpose of the Section, ‘family member’ shall mean spouse, children and parents of the insured person. \\n \\n3.1.12 Doctor’s Home Visit and Nursing Care during Post Hospitalisation \\nThe Company shall reimburse the insured, for medically necessary expenses incurred for doctor’s home visit charges, nursing care \\nby qualified nurse during post hospitalisation up to the limit as shown in the Table of Benefits.  \\n \\n3.1.13 Anti Rabies Vaccination  \\nThe Company shall reimburse the insured medically necessary expenses incurred for anti-rabies vaccination up to the limit as shown \\nin the Table of Benefits. Hospitalisation is not required for vaccination. \\n \\n3.1.14 Maternity \\n \\nThe Company shall indemnify Maternity Expenses as described below for any female Insured Person, and also Pre-Natal and Post-\\nNatal Hospitalisation expenses per delivery, including expenses for necessary vaccination for New Born Baby, subject to the limit'), Document(id='7bb14039-69c6-4a67-b349-caba91efec7d', metadata={'author': 'Avishek Banerjee', 'creationDate': \"D:20250211113919+05'30'\", 'creationdate': '2025-02-11T11:39:19+05:30', 'creator': 'Microsoft® Word LTSC', 'file_path': './doc.pdf', 'format': 'PDF 1.7', 'keywords': '', 'modDate': \"D:20250211113919+05'30'\", 'moddate': '2025-02-11T11:39:19+05:30', 'page': 3.0, 'producer': 'Microsoft® Word LTSC', 'section': 'beginning', 'source': './doc.pdf', 'start_index': 1576.0, 'subject': '', 'title': 'National Parivar Mediclaim Plus Policy (NPMPP)', 'total_pages': 25.0, 'trapped': ''}, page_content='for the procedures (as listed under PPN package) shall be subject to the rates applicable to PPN package pricing. \\n \\n2.44 Pre existing disease means any condition, ailment, injury or disease \\na) That is/are diagnosed by a physician within 36 months prior to the effective date of the Policy issued by the Company or \\nits reinstatement, or \\nb) For which Medical Advice or treatment was recommended by, or received from, a physician within 36 months prior \\nto the effective date of the Policy issued by the Company or its reinstatement. \\n \\n2.45 Portability means a facility provided to the policyholders (including all members under family cover), to transfer the credits \\ngained for, Pre-Existing Diseases and Specific Waiting Periods from one insurer to another insurer. \\n \\n2.46 Psychiatrist means a medical practitioner possessing a post-graduate degree or diploma in psychiatry awarded by an university'), Document(id='4bd7c5c8-789f-4fbb-acae-f5dc659e12e3', metadata={'author': 'Avishek Banerjee', 'creationDate': \"D:20250211113919+05'30'\", 'creationdate': '2025-02-11T11:39:19+05:30', 'creator': 'Microsoft® Word LTSC', 'file_path': './doc.pdf', 'format': 'PDF 1.7', 'keywords': '', 'modDate': \"D:20250211113919+05'30'\", 'moddate': '2025-02-11T11:39:19+05:30', 'page': 4.0, 'producer': 'Microsoft® Word LTSC', 'section': 'beginning', 'source': './doc.pdf', 'start_index': 805.0, 'subject': '', 'title': 'National Parivar Mediclaim Plus Policy (NPMPP)', 'total_pages': 25.0, 'trapped': ''}, page_content='vii. Dental treatment, necessitated due to an injury \\nviii. Plastic surgery, necessitated due to disease or injury \\nix. Hormone replacement therapy, if medically necessary \\nx. Vitamins and tonics, forming part of treatment for disease/injury as certified by the attending medical practitioner \\nxi. Circumcision, necessitated for treatment of a disease or injury \\n \\n3.1.1.1 Limit for Room Charges and Intensive Care Unit Charges  \\nRoom charges and intensive care unit charges per day shall be payable up to the limit as shown in the Table of Benefits, for Plan A \\nonly. However, the limit shall not apply if the treatment is undergone for a listed procedure in a Preferred Provider Network (PPN) \\nas a package. \\n \\nNote: \\nListed procedures and Preferred Provider Network list are dynamic in nature, and will be updated in the Company’s website from \\ntime to time. \\n \\n \\n3.1.1.2 Limit for Cataract Surgery'), Document(id='5c85e975-a2f9-4dde-8fea-76b207fd261b', metadata={'author': 'Avishek Banerjee', 'creationDate': \"D:20250211113919+05'30'\", 'creationdate': '2025-02-11T11:39:19+05:30', 'creator': 'Microsoft® Word LTSC', 'file_path': './doc.pdf', 'format': 'PDF 1.7', 'keywords': '', 'modDate': \"D:20250211113919+05'30'\", 'moddate': '2025-02-11T11:39:19+05:30', 'page': 1.0, 'producer': 'Microsoft® Word LTSC', 'section': 'beginning', 'source': './doc.pdf', 'start_index': 2543.0, 'subject': '', 'title': 'National Parivar Mediclaim Plus Policy (NPMPP)', 'total_pages': 25.0, 'trapped': ''}, page_content='2.16 Dental Treatment means a treatment carried out by a dental practitioner including examinations, fillings (where appropriate), \\ncrowns, extractions and surgery excluding any form of cosmetic surgery/implants. \\n \\n2.17 Diagnosis means diagnosis by a medical practitioner, supported by clinical, radiological, histological and laboratory evidence, \\nacceptable to the Company. \\n \\n2.18 Domiciliary Hospitalisation means medical treatment for an illness /injury which in the normal course would require care \\nand treatment at a hospital but is actually taken while confined at home under any of the following circumstances. \\ni. \\nthe condition of the patient is such that he/she is not in a condition to be removed to a hospital, or \\nii. the patient takes treatment at home on account of non availability of bed/ room in a hospital. \\n \\n2.19 Family members means spouse, children and parents of the insured, covered by the Policy.')]\n",
      "\n",
      "\n",
      "Answer of 6: Based on the provided context, there is no mention of a benefit for preventive health check-ups. The text describes benefits for doctor's home visits, nursing care, anti-rabies vaccination, and maternity expenses.\n",
      "\n",
      "thanks for asking!\n",
      "\n"
     ]
    },
    {
     "name": "stderr",
     "output_type": "stream",
     "text": [
      "Retrying langchain_google_genai.chat_models._chat_with_retry.<locals>._chat_with_retry in 2.0 seconds as it raised ResourceExhausted: 429 You exceeded your current quota, please check your plan and billing details. For more information on this error, head to: https://ai.google.dev/gemini-api/docs/rate-limits. [violations {\n",
      "  quota_metric: \"generativelanguage.googleapis.com/generate_content_free_tier_requests\"\n",
      "  quota_id: \"GenerateRequestsPerMinutePerProjectPerModel-FreeTier\"\n",
      "  quota_dimensions {\n",
      "    key: \"model\"\n",
      "    value: \"gemini-2.5-flash\"\n",
      "  }\n",
      "  quota_dimensions {\n",
      "    key: \"location\"\n",
      "    value: \"global\"\n",
      "  }\n",
      "  quota_value: 10\n",
      "}\n",
      ", links {\n",
      "  description: \"Learn more about Gemini API quotas\"\n",
      "  url: \"https://ai.google.dev/gemini-api/docs/rate-limits\"\n",
      "}\n",
      ", retry_delay {\n",
      "  seconds: 26\n",
      "}\n",
      "].\n",
      "Retrying langchain_google_genai.chat_models._chat_with_retry.<locals>._chat_with_retry in 4.0 seconds as it raised ResourceExhausted: 429 You exceeded your current quota, please check your plan and billing details. For more information on this error, head to: https://ai.google.dev/gemini-api/docs/rate-limits. [violations {\n",
      "  quota_metric: \"generativelanguage.googleapis.com/generate_content_free_tier_requests\"\n",
      "  quota_id: \"GenerateRequestsPerMinutePerProjectPerModel-FreeTier\"\n",
      "  quota_dimensions {\n",
      "    key: \"model\"\n",
      "    value: \"gemini-2.5-flash\"\n",
      "  }\n",
      "  quota_dimensions {\n",
      "    key: \"location\"\n",
      "    value: \"global\"\n",
      "  }\n",
      "  quota_value: 10\n",
      "}\n",
      ", links {\n",
      "  description: \"Learn more about Gemini API quotas\"\n",
      "  url: \"https://ai.google.dev/gemini-api/docs/rate-limits\"\n",
      "}\n",
      ", retry_delay {\n",
      "  seconds: 24\n",
      "}\n",
      "].\n"
     ]
    },
    {
     "name": "stdout",
     "output_type": "stream",
     "text": [
      "Context of 7: [Document(id='6ae1e580-5955-4254-a848-8d970acfd0ce', metadata={'author': 'Avishek Banerjee', 'creationDate': \"D:20250211113919+05'30'\", 'creationdate': '2025-02-11T11:39:19+05:30', 'creator': 'Microsoft® Word LTSC', 'file_path': './doc.pdf', 'format': 'PDF 1.7', 'keywords': '', 'modDate': \"D:20250211113919+05'30'\", 'moddate': '2025-02-11T11:39:19+05:30', 'page': 1.0, 'producer': 'Microsoft® Word LTSC', 'section': 'beginning', 'source': './doc.pdf', 'start_index': 4101.0, 'subject': '', 'title': 'National Parivar Mediclaim Plus Policy (NPMPP)', 'total_pages': 25.0, 'trapped': ''}, page_content='2.22 Hospital means any institution established for in-patient care and day care treatment of disease/ injuries and which has been \\nregistered as a hospital with the local authorities under the Clinical Establishments (Registration and Regulation) Act, 2010 or \\nunder the enactments specified under Schedule of Section 56(1) of the said Act, OR complies with all minimum criteria as \\nunder: \\ni. \\nhas qualified nursing staff under its employment round the clock; \\nii. has at least ten inpatient beds, in those towns having a population of less than ten lacs and fifteen  inpatient beds in \\nall other places; \\niii. has qualified medical practitioner (s) in charge round the clock; \\niv. has a fully equipped operation theatre of its own where surgical procedures are carried out  \\nv. maintains daily records of patients and shall make these accessible to the Company’s authorized personnel.'), Document(id='62a4df50-ad08-472d-b311-83b8464546e3', metadata={'author': 'Avishek Banerjee', 'creationDate': \"D:20250211113919+05'30'\", 'creationdate': '2025-02-11T11:39:19+05:30', 'creator': 'Microsoft® Word LTSC', 'file_path': './doc.pdf', 'format': 'PDF 1.7', 'keywords': '', 'modDate': \"D:20250211113919+05'30'\", 'moddate': '2025-02-11T11:39:19+05:30', 'page': 0.0, 'producer': 'Microsoft® Word LTSC', 'section': 'beginning', 'source': './doc.pdf', 'start_index': 832.0, 'subject': '', 'title': 'National Parivar Mediclaim Plus Policy (NPMPP)', 'total_pages': 25.0, 'trapped': ''}, page_content='1 PREAMBLE \\nThe Company undertakes that if during the Policy Period, any Insured Person shall suffer any illness or disease (hereinafter called \\nIllness) or sustain any bodily injury due to an Accident (hereinafter called Injury) requiring Hospitalisation of such Insured  \\nPerson(s) for In-Patient Care at any hospital/nursing home (hereinafter called Hospital) or for Day Care Treatment at any Day \\nCare Center or to undergo treatment under Domiciliary Hospitalisation, following the Medical Advice of a duly qualified Medical \\nPractitioner, the Company shall indemnify the Hospital or the Insured, Reasonable and Customary Charges incurred for Medically \\nNecessary Treatment towards the Coverage mentioned herein. \\nProvided further that, the amount payable under the Policy in respect of all such claims during each Policy Year of the Policy \\nPeriod shall be subject to the Definitions, Terms, Exclusions, Conditions contained herein and limits as shown in the Table of'), Document(id='c3f290b9-0a7f-40ca-9662-0a830a5b4ec1', metadata={'author': 'Avishek Banerjee', 'creationDate': \"D:20250211113919+05'30'\", 'creationdate': '2025-02-11T11:39:19+05:30', 'creator': 'Microsoft® Word LTSC', 'file_path': './doc.pdf', 'format': 'PDF 1.7', 'keywords': '', 'modDate': \"D:20250211113919+05'30'\", 'moddate': '2025-02-11T11:39:19+05:30', 'page': 2.0, 'producer': 'Microsoft® Word LTSC', 'section': 'beginning', 'source': './doc.pdf', 'start_index': 4057.0, 'subject': '', 'title': 'National Parivar Mediclaim Plus Policy (NPMPP)', 'total_pages': 25.0, 'trapped': ''}, page_content='thereby entitled to practice medicine within its jurisdiction; and is acting within the scope and jurisdiction of the licence. \\n \\n2.35 Migration means a facility provided to policyholders (including all members under family cover and group policies), to \\ntransfer the credits gained for pre-existing diseases and specific waiting periods from one health insurance policy to another \\nwith the same insurer. \\n \\n2.36 Network Provider means Hospitals or Day Care Centres enlisted by the Company or jointly by the Company and a TPA to \\nprovide medical services to an insured person on payment by a cashless facility. \\n \\n2.37 New Born Baby means baby born during the policy period and is aged upto 90 days. \\n \\n2.38 Non- Network means any Hospital, Day Care Centre that is not part of the network.'), Document(id='82aaad74-f836-4f85-8d93-ac716aa2da0d', metadata={'author': 'Avishek Banerjee', 'creationDate': \"D:20250211113919+05'30'\", 'creationdate': '2025-02-11T11:39:19+05:30', 'creator': 'Microsoft® Word LTSC', 'file_path': './doc.pdf', 'format': 'PDF 1.7', 'keywords': '', 'modDate': \"D:20250211113919+05'30'\", 'moddate': '2025-02-11T11:39:19+05:30', 'page': 3.0, 'producer': 'Microsoft® Word LTSC', 'section': 'beginning', 'source': './doc.pdf', 'start_index': 757.0, 'subject': '', 'title': 'National Parivar Mediclaim Plus Policy (NPMPP)', 'total_pages': 25.0, 'trapped': ''}, page_content='the Policy is issued. \\n \\n2.42 Policy Year means a period of twelve months beginning from the date of commencement of the policy period and ending on \\nthe last day of such twelve month period. For the purpose of subsequent years, policy year shall mean a period of twelve months \\ncommencing from the end of the previous policy year and lapsing on the last day of such twelve-month period, till the policy \\nperiod, as mentioned in the schedule. \\n \\n2.43 Preferred Provider Network (PPN) means a network of hospitals which have agreed to a cashless packaged pricing for listed \\nprocedures for the insured person. The list is available on the website of the Company/TPA and subject to amendment from \\ntime to time. For the updated list please visit the website of the Company/TPA. Reimbursement of expenses incurred in PPN \\nfor the procedures (as listed under PPN package) shall be subject to the rates applicable to PPN package pricing.')]\n",
      "\n",
      "\n",
      "Answer of 7: A 'Hospital' is defined as an institution for in-patient and day care treatment of diseases/injuries, registered with local authorities under the Clinical Establishments Act, 2010. Alternatively, it must meet minimum criteria including round-the-clock qualified nursing staff and medical practitioners, and a fully equipped operation theatre. It also requires a minimum number of inpatient beds (10 or 15 depending on population) and maintenance of daily patient records. thanks for asking!\n",
      "\n",
      "Context of 8: [Document(id='afc07e2c-d846-4f6f-a6ad-ed881f3ba448', metadata={'author': 'Avishek Banerjee', 'creationDate': \"D:20250211113919+05'30'\", 'creationdate': '2025-02-11T11:39:19+05:30', 'creator': 'Microsoft® Word LTSC', 'file_path': './doc.pdf', 'format': 'PDF 1.7', 'keywords': '', 'modDate': \"D:20250211113919+05'30'\", 'moddate': '2025-02-11T11:39:19+05:30', 'page': 0.0, 'producer': 'Microsoft® Word LTSC', 'section': 'beginning', 'source': './doc.pdf', 'start_index': 3266.0, 'subject': '', 'title': 'National Parivar Mediclaim Plus Policy (NPMPP)', 'total_pages': 25.0, 'trapped': ''}, page_content='ii. Having dedicated AYUSH therapy sections as required and/or has equipped operation theatre where surgical procedures \\nare to be carried out; \\niii. Maintaining daily records of the patients and making them accessible to the insurance company’s authorized \\nrepresentative. \\n \\n2.6 AYUSH Treatment refers to the medical and / or Hospitalisation treatments given Ayurveda, Yoga and Naturopathy, Unani, \\nSiddha and Homeopathy systems. \\n \\n2.7 AYUSH Hospital is a healthcare facility wherein medical/surgical/para-surgical treatment procedures and interventions are \\ncarried out by AYUSH Medical Practitioner(s) comprising of any of the following: \\na. Central or State Government AYUSH Hospital or \\nb. Teaching hospital attached to AYUSH College recognized by the Central Government/ Central Council of Indian \\nMedicine/ Central Council for Homeopathy; or \\nc. AYUSH Hospital, standalone or co-located with in-patient healthcare facility of any recognized system of medicine,'), Document(id='a6527937-eb40-4156-8f79-ea60dc8cb8e8', metadata={'author': 'Avishek Banerjee', 'creationDate': \"D:20250211113919+05'30'\", 'creationdate': '2025-02-11T11:39:19+05:30', 'creator': 'Microsoft® Word LTSC', 'file_path': './doc.pdf', 'format': 'PDF 1.7', 'keywords': '', 'modDate': \"D:20250211113919+05'30'\", 'moddate': '2025-02-11T11:39:19+05:30', 'page': 0.0, 'producer': 'Microsoft® Word LTSC', 'section': 'beginning', 'source': './doc.pdf', 'start_index': 4072.0, 'subject': '', 'title': 'National Parivar Mediclaim Plus Policy (NPMPP)', 'total_pages': 25.0, 'trapped': ''}, page_content='Medicine/ Central Council for Homeopathy; or \\nc. AYUSH Hospital, standalone or co-located with in-patient healthcare facility of any recognized system of medicine, \\nregistered with the local authorities, wherever applicable, and is under the supervision of a qualified registered \\nAYUSH Medical Practitioner and must comply with all the following criterion: \\ni. Having at least 5 in-patient beds; \\nii. Having qualified AYUSH Medical Practitioner in charge round the clock; \\niii. Having dedicated AYUSH therapy sections as required;  \\niv. Maintaining daily records of the patients and making them accessible to the insurance company’s authorized \\nrepresentative \\n \\n2.8 Break in policy means the period of gap that occurs at the end of the existing Policy Period due date, when the premium due \\nfor renewal on a given policy or instalment premium due is not paid on or before the premium renewal date or grace period.'), Document(id='91fe477d-a42f-4cc6-8059-a53696368108', metadata={'author': 'Avishek Banerjee', 'creationDate': \"D:20250211113919+05'30'\", 'creationdate': '2025-02-11T11:39:19+05:30', 'creator': 'Microsoft® Word LTSC', 'file_path': './doc.pdf', 'format': 'PDF 1.7', 'keywords': '', 'modDate': \"D:20250211113919+05'30'\", 'moddate': '2025-02-11T11:39:19+05:30', 'page': 0.0, 'producer': 'Microsoft® Word LTSC', 'section': 'beginning', 'source': './doc.pdf', 'start_index': 2468.0, 'subject': '', 'title': 'National Parivar Mediclaim Plus Policy (NPMPP)', 'total_pages': 25.0, 'trapped': ''}, page_content='2.4 Any One Illness means continuous period of illness and it includes relapse within forty five days from the date of last \\nconsultation with the hospital where treatment has been taken. \\n \\n2.5 AYUSH Day Care Centre means and includes Community Health Centre (CHC), Primary Health Centre (PHC), Dispensary, \\nClinic, Polyclinic or any such health centre which is registered with the local authorities, wherever applicable and having \\nfacilities for carrying out treatment procedures and medical or surgical / para-surgical interventions or both under the \\nsupervision of registered AYUSH Medical Practitioner(s)  on day care  basis without in-patient services and must comply with \\nall the following criterion: \\ni. Having qualified registered AYUSH Medical Practitioner in charge round the clock; \\nii. Having dedicated AYUSH therapy sections as required and/or has equipped operation theatre where surgical procedures \\nare to be carried out;'), Document(id='c432dc1f-af63-461f-ace7-c90c2abe3c62', metadata={'author': 'Avishek Banerjee', 'creationDate': \"D:20250211113919+05'30'\", 'creationdate': '2025-02-11T11:39:19+05:30', 'creator': 'Microsoft® Word LTSC', 'file_path': './doc.pdf', 'format': 'PDF 1.7', 'keywords': '', 'modDate': \"D:20250211113919+05'30'\", 'moddate': '2025-02-11T11:39:19+05:30', 'page': 5.0, 'producer': 'Microsoft® Word LTSC', 'section': 'beginning', 'source': './doc.pdf', 'start_index': 0.0, 'subject': '', 'title': 'National Parivar Mediclaim Plus Policy (NPMPP)', 'total_pages': 25.0, 'trapped': ''}, page_content=\"National Insurance Co. Ltd. \\nPremises No. 18-0374, Plot no. CBD-81,  \\nNew Town, Kolkata - 700156 \\nPage 6 of 25 \\nNational Parivar Mediclaim Plus Policy \\nUIN: NICHLIP25039V032425 \\n \\n3.1.5 Day Care Procedure \\nThe Company shall indemnify the Medical Expenses (including Pre and Post Hospitalisation Expenses) for Day Care Treatments \\nrequiring Hospitalization as an In-Patient for less than 24 hours undergone by the Insured Person in a Hospital/ Day Care Centre, \\nbut not in the Outpatient department of a Hospital. \\n3.1.6 AYUSH Treatment \\nThe Company shall indemnify Medical Expenses incurred for Inpatient Care treatment under Ayurveda, Yoga and Naturopathy, \\nUnani, Siddha and Homeopathy systems of medicines during each Policy Period up to the limit of Sum Insured as specified in the \\nPolicy Schedule in any AYUSH Hospital. \\n \\n \\n3.1.7 Organ Donor’s Medical Expenses \\nOrgan Donor's Hospitalisation Expenses\")]\n",
      "\n",
      "\n",
      "Answer of 8: The company covers medical expenses for Inpatient Care treatment under Ayurveda, Yoga and Naturopathy, Unani, Siddha, and Homeopathy systems. This coverage is provided up to the limit of the Sum Insured as specified in the Policy Schedule. It applies to treatments received in any AYUSH Hospital.\n",
      "thanks for asking!\n",
      "\n"
     ]
    },
    {
     "name": "stderr",
     "output_type": "stream",
     "text": [
      "Retrying langchain_google_genai.chat_models._chat_with_retry.<locals>._chat_with_retry in 2.0 seconds as it raised ResourceExhausted: 429 You exceeded your current quota, please check your plan and billing details. For more information on this error, head to: https://ai.google.dev/gemini-api/docs/rate-limits. [violations {\n",
      "  quota_metric: \"generativelanguage.googleapis.com/generate_content_free_tier_requests\"\n",
      "  quota_id: \"GenerateRequestsPerMinutePerProjectPerModel-FreeTier\"\n",
      "  quota_dimensions {\n",
      "    key: \"model\"\n",
      "    value: \"gemini-2.5-flash\"\n",
      "  }\n",
      "  quota_dimensions {\n",
      "    key: \"location\"\n",
      "    value: \"global\"\n",
      "  }\n",
      "  quota_value: 10\n",
      "}\n",
      ", links {\n",
      "  description: \"Learn more about Gemini API quotas\"\n",
      "  url: \"https://ai.google.dev/gemini-api/docs/rate-limits\"\n",
      "}\n",
      ", retry_delay {\n",
      "  seconds: 11\n",
      "}\n",
      "].\n",
      "Retrying langchain_google_genai.chat_models._chat_with_retry.<locals>._chat_with_retry in 4.0 seconds as it raised ResourceExhausted: 429 You exceeded your current quota, please check your plan and billing details. For more information on this error, head to: https://ai.google.dev/gemini-api/docs/rate-limits. [violations {\n",
      "  quota_metric: \"generativelanguage.googleapis.com/generate_content_free_tier_requests\"\n",
      "  quota_id: \"GenerateRequestsPerMinutePerProjectPerModel-FreeTier\"\n",
      "  quota_dimensions {\n",
      "    key: \"model\"\n",
      "    value: \"gemini-2.5-flash\"\n",
      "  }\n",
      "  quota_dimensions {\n",
      "    key: \"location\"\n",
      "    value: \"global\"\n",
      "  }\n",
      "  quota_value: 10\n",
      "}\n",
      ", links {\n",
      "  description: \"Learn more about Gemini API quotas\"\n",
      "  url: \"https://ai.google.dev/gemini-api/docs/rate-limits\"\n",
      "}\n",
      ", retry_delay {\n",
      "  seconds: 9\n",
      "}\n",
      "].\n",
      "Retrying langchain_google_genai.chat_models._chat_with_retry.<locals>._chat_with_retry in 8.0 seconds as it raised ResourceExhausted: 429 You exceeded your current quota, please check your plan and billing details. For more information on this error, head to: https://ai.google.dev/gemini-api/docs/rate-limits. [violations {\n",
      "  quota_metric: \"generativelanguage.googleapis.com/generate_content_free_tier_requests\"\n",
      "  quota_id: \"GenerateRequestsPerMinutePerProjectPerModel-FreeTier\"\n",
      "  quota_dimensions {\n",
      "    key: \"model\"\n",
      "    value: \"gemini-2.5-flash\"\n",
      "  }\n",
      "  quota_dimensions {\n",
      "    key: \"location\"\n",
      "    value: \"global\"\n",
      "  }\n",
      "  quota_value: 10\n",
      "}\n",
      ", links {\n",
      "  description: \"Learn more about Gemini API quotas\"\n",
      "  url: \"https://ai.google.dev/gemini-api/docs/rate-limits\"\n",
      "}\n",
      ", retry_delay {\n",
      "  seconds: 5\n",
      "}\n",
      "].\n",
      "Retrying langchain_google_genai.chat_models._chat_with_retry.<locals>._chat_with_retry in 16.0 seconds as it raised ResourceExhausted: 429 You exceeded your current quota, please check your plan and billing details. For more information on this error, head to: https://ai.google.dev/gemini-api/docs/rate-limits. [violations {\n",
      "  quota_metric: \"generativelanguage.googleapis.com/generate_content_free_tier_requests\"\n",
      "  quota_id: \"GenerateRequestsPerMinutePerProjectPerModel-FreeTier\"\n",
      "  quota_dimensions {\n",
      "    key: \"model\"\n",
      "    value: \"gemini-2.5-flash\"\n",
      "  }\n",
      "  quota_dimensions {\n",
      "    key: \"location\"\n",
      "    value: \"global\"\n",
      "  }\n",
      "  quota_value: 10\n",
      "}\n",
      ", links {\n",
      "  description: \"Learn more about Gemini API quotas\"\n",
      "  url: \"https://ai.google.dev/gemini-api/docs/rate-limits\"\n",
      "}\n",
      ", retry_delay {\n",
      "  seconds: 56\n",
      "}\n",
      "].\n"
     ]
    },
    {
     "name": "stdout",
     "output_type": "stream",
     "text": [
      "Context of 9: [Document(id='997acad4-790e-4496-a290-f507981ad577', metadata={'author': 'Avishek Banerjee', 'creationDate': \"D:20250211113919+05'30'\", 'creationdate': '2025-02-11T11:39:19+05:30', 'creator': 'Microsoft® Word LTSC', 'file_path': './doc.pdf', 'format': 'PDF 1.7', 'keywords': '', 'modDate': \"D:20250211113919+05'30'\", 'moddate': '2025-02-11T11:39:19+05:30', 'page': 11.0, 'producer': 'Microsoft® Word LTSC', 'section': 'middle', 'source': './doc.pdf', 'start_index': 817.0, 'subject': '', 'title': 'National Parivar Mediclaim Plus Policy (NPMPP)', 'total_pages': 25.0, 'trapped': ''}, page_content='4.31. \\nItems of personal comfort \\nItems of personal comfort and convenience including telephone, television, aya, barber, beauty services, baby food, cosmetics, \\nnapkins, toiletries, guest services. \\n \\n4.32. \\nService charge/ registration fee \\nAny kind of service charges including surcharges, admission fees, registration charges and similar charges levied by the hospital. \\n \\n4.33. \\nHome visit charges \\nHome visit charges during Pre and Post Hospitalisation of doctor, attendant and nurse, except as and to the extent provided for under \\nSection 3.1.12 (Doctor’s Home Visit and Nursing Care during Post Hospitalisation). \\n \\n4.34. \\nWar \\nWar (whether declared or not) and war like occurrence or invasion, acts of foreign enemies, hostilities, civil war, rebellion, \\nrevolutions, insurrections, mutiny, military or usurped power, seizure, capture, arrest, restraints and detainment of all kinds. \\n \\n4.35. \\nRadioactivity'), Document(id='c99b0891-5077-4ba3-85ab-9bcab7902c95', metadata={'author': 'Avishek Banerjee', 'creationDate': \"D:20250211113919+05'30'\", 'creationdate': '2025-02-11T11:39:19+05:30', 'creator': 'Microsoft® Word LTSC', 'file_path': './doc.pdf', 'format': 'PDF 1.7', 'keywords': '', 'modDate': \"D:20250211113919+05'30'\", 'moddate': '2025-02-11T11:39:19+05:30', 'page': 9.0, 'producer': 'Microsoft® Word LTSC', 'section': 'middle', 'source': './doc.pdf', 'start_index': 1437.0, 'subject': '', 'title': 'National Parivar Mediclaim Plus Policy (NPMPP)', 'total_pages': 25.0, 'trapped': ''}, page_content='4.3. First 30 days waiting period (Excl 03) \\na) Expenses related to the treatment of any illness within thirty (30) days from the first policy commencement date shall be \\nexcluded except claims arising due to an accident, provided the same are covered. \\nb) This exclusion shall not, however, apply if the Insured Person has Continuous Coverage for more than twelve (12) months. \\nc) The within referred waiting period is made applicable to the enhanced sum insured in the event of granting higher sum \\ninsured subsequently.  \\n \\n4.4. Investigation & Evaluation (Excl 04) \\na) Expenses related to any admission primarily for diagnostics and evaluation purposes only are excluded. \\nb) Any diagnostic expenses which are not related or not incidental to the current diagnosis and treatment are excluded. \\n \\n4.5. Rest Cure, Rehabilitation and Respite Care (Excl 05) \\na) Expenses related to any admission primarily for enforced bed rest and not for receiving treatment. This also includes:'), Document(id='27fe795a-0441-41fa-86ec-8d62c83bc00d', metadata={'author': 'Avishek Banerjee', 'creationDate': \"D:20250211113919+05'30'\", 'creationdate': '2025-02-11T11:39:19+05:30', 'creator': 'Microsoft® Word LTSC', 'file_path': './doc.pdf', 'format': 'PDF 1.7', 'keywords': '', 'modDate': \"D:20250211113919+05'30'\", 'moddate': '2025-02-11T11:39:19+05:30', 'page': 9.0, 'producer': 'Microsoft® Word LTSC', 'section': 'middle', 'source': './doc.pdf', 'start_index': 2237.0, 'subject': '', 'title': 'National Parivar Mediclaim Plus Policy (NPMPP)', 'total_pages': 25.0, 'trapped': ''}, page_content='4.5. Rest Cure, Rehabilitation and Respite Care (Excl 05) \\na) Expenses related to any admission primarily for enforced bed rest and not for receiving treatment. This also includes: \\ni. Custodial care either at home or in a nursing facility for personal care such as help with activities of daily living such as \\nbathing, dressing, moving around either by skilled nurses or assistant or non-skilled persons. \\nii. Any services for people who are terminally ill to address physical, social, emotional and spiritual needs. \\n \\n4.6. Obesity/ Weight Control (Excl 06) \\nExpenses related to the surgical treatment of obesity that does not fulfil all the below conditions: \\n1) Surgery to be conducted is upon the advice of the Doctor  \\n2) The surgery/Procedure conducted should be supported by clinical protocols \\n3) The member has to be 18 years of age or older and \\n4) Body Mass Index (BMI): \\na. \\ngreater than or equal to 40, or'), Document(id='2d0b1aef-5283-4660-8e0a-3901d4fe8f6e', metadata={'author': 'Avishek Banerjee', 'creationDate': \"D:20250211113919+05'30'\", 'creationdate': '2025-02-11T11:39:19+05:30', 'creator': 'Microsoft® Word LTSC', 'file_path': './doc.pdf', 'format': 'PDF 1.7', 'keywords': '', 'modDate': \"D:20250211113919+05'30'\", 'moddate': '2025-02-11T11:39:19+05:30', 'page': 12.0, 'producer': 'Microsoft® Word LTSC', 'section': 'middle', 'source': './doc.pdf', 'start_index': 0.0, 'subject': '', 'title': 'National Parivar Mediclaim Plus Policy (NPMPP)', 'total_pages': 25.0, 'trapped': ''}, page_content='National Insurance Co. Ltd. \\nPremises No. 18-0374, Plot no. CBD-81,  \\nNew Town, Kolkata - 700156 \\nPage 13 of 25 \\nNational Parivar Mediclaim Plus Policy \\nUIN: NICHLIP25039V032425 \\n \\nIn the event of hospitalisation/ domiciliary hospitalisation, the insured person/insured person’s representative shall notify the TPA \\n(if claim is processed by TPA)/Company (if claim is processed by the Company) in writing by letter, e-mail, fax providing all \\nrelevant information relating to claim including plan of treatment, policy number etc. within the prescribed  time limit. \\n \\nNotification of claim for Cashless facility \\nTPA must be informed: \\nIn the event of planned hospitalization \\nAt least seventy two hours prior to the insured person’s \\nadmission  \\nIn the event of emergency hospitalization \\nWithin twenty four hours of the insured person’s admission  \\n \\nNotification of claim for Reimbursement \\nCompany/TPA must be informed: \\nIn the event of planned hospitalisation/ domiciliary \\nhospitalistion/')]\n",
      "\n",
      "\n",
      "Answer of 9: Based on the provided context, there is no information about \"Plan A\" or any sub-limits on room rent and ICU charges. Therefore, I don't know the answer to your question.\n",
      "thanks for asking!\n",
      "\n",
      "Inference time: 93.853 seconds\n"
     ]
    },
    {
     "ename": "",
     "evalue": "",
     "output_type": "error",
     "traceback": [
      "\u001b[1;31mThe Kernel crashed while executing code in the current cell or a previous cell. \n",
      "\u001b[1;31mPlease review the code in the cell(s) to identify a possible cause of the failure. \n",
      "\u001b[1;31mClick <a href='https://aka.ms/vscodeJupyterKernelCrash'>here</a> for more info. \n",
      "\u001b[1;31mView Jupyter <a href='command:jupyter.viewOutput'>log</a> for further details."
     ]
    }
   ],
   "source": [
    "import time\n",
    "\n",
    "timer_start = time.time()\n",
    "\n",
    "questions = [\n",
    "  \"What is the grace period for premium payment under the National Parivar Mediclaim Plus Policy?\",\n",
    "  \"What is the waiting period for pre-existing diseases (PED) to be covered?\",\n",
    "  \"Does this policy cover maternity expenses, and what are the conditions?\",\n",
    "  \"What is the waiting period for cataract surgery?\",\n",
    "  \"Are the medical expenses for an organ donor covered under this policy?\",\n",
    "  \"What is the No Claim Discount (NCD) offered in this policy?\",\n",
    "  \"Is there a benefit for preventive health check-ups?\",\n",
    "  \"How does the policy define a 'Hospital'?\",\n",
    "  \"What is the extent of coverage for AYUSH treatments?\",\n",
    "  \"Are there any sub-limits on room rent and ICU charges for Plan A?\"\n",
    "]\n",
    "\n",
    "for i, question in enumerate(questions):\n",
    "\n",
    "  result = graph.invoke({\"id\":i, \"question\": question})\n",
    "\n",
    "  print(f\"Context of {i}: {result['context']}\\n\\n\")\n",
    "  print(f\"Answer of {i}: {result['answer']}\\n\")\n",
    "\n",
    "timer_end = time.time()\n",
    "print(f\"Inference time: {timer_end - timer_start:.3f} seconds\")\n"
   ]
  },
  {
   "cell_type": "code",
   "execution_count": null,
   "id": "01096bfa",
   "metadata": {},
   "outputs": [],
   "source": []
  },
  {
   "cell_type": "code",
   "execution_count": null,
   "id": "b1a33d0d",
   "metadata": {},
   "outputs": [],
   "source": []
  },
  {
   "cell_type": "code",
   "execution_count": null,
   "id": "3eb389f2",
   "metadata": {},
   "outputs": [],
   "source": []
  },
  {
   "cell_type": "code",
   "execution_count": null,
   "id": "944429cd",
   "metadata": {},
   "outputs": [],
   "source": []
  },
  {
   "cell_type": "code",
   "execution_count": null,
   "id": "195abe09",
   "metadata": {},
   "outputs": [],
   "source": []
  },
  {
   "cell_type": "code",
   "execution_count": null,
   "id": "8bdf36c1",
   "metadata": {},
   "outputs": [],
   "source": []
  },
  {
   "cell_type": "code",
   "execution_count": null,
   "id": "75d9901d",
   "metadata": {},
   "outputs": [],
   "source": []
  },
  {
   "cell_type": "code",
   "execution_count": null,
   "id": "da8feeb5",
   "metadata": {},
   "outputs": [],
   "source": []
  },
  {
   "cell_type": "code",
   "execution_count": null,
   "id": "119c61f5",
   "metadata": {},
   "outputs": [],
   "source": []
  },
  {
   "cell_type": "code",
   "execution_count": null,
   "id": "d930d748",
   "metadata": {},
   "outputs": [],
   "source": []
  },
  {
   "cell_type": "code",
   "execution_count": null,
   "id": "0f289cf7",
   "metadata": {},
   "outputs": [],
   "source": []
  },
  {
   "cell_type": "code",
   "execution_count": null,
   "id": "cdf1a01a",
   "metadata": {},
   "outputs": [],
   "source": []
  },
  {
   "cell_type": "code",
   "execution_count": null,
   "id": "b61a386a",
   "metadata": {},
   "outputs": [],
   "source": []
  },
  {
   "cell_type": "code",
   "execution_count": null,
   "id": "397114ba",
   "metadata": {},
   "outputs": [],
   "source": []
  },
  {
   "cell_type": "code",
   "execution_count": null,
   "id": "d55dea7d",
   "metadata": {},
   "outputs": [],
   "source": []
  },
  {
   "cell_type": "code",
   "execution_count": null,
   "id": "47da80f0",
   "metadata": {},
   "outputs": [],
   "source": []
  },
  {
   "cell_type": "code",
   "execution_count": null,
   "id": "0011633c",
   "metadata": {},
   "outputs": [],
   "source": []
  },
  {
   "cell_type": "code",
   "execution_count": null,
   "id": "df1c5084",
   "metadata": {},
   "outputs": [],
   "source": []
  },
  {
   "cell_type": "code",
   "execution_count": null,
   "id": "e99359d5",
   "metadata": {},
   "outputs": [],
   "source": []
  },
  {
   "cell_type": "code",
   "execution_count": null,
   "id": "d2d78630",
   "metadata": {},
   "outputs": [],
   "source": []
  },
  {
   "cell_type": "code",
   "execution_count": null,
   "id": "c1256efb",
   "metadata": {},
   "outputs": [],
   "source": []
  },
  {
   "cell_type": "code",
   "execution_count": null,
   "id": "e962ee1e",
   "metadata": {},
   "outputs": [],
   "source": []
  }
 ],
 "metadata": {
  "kernelspec": {
   "display_name": ".venv (3.12.0)",
   "language": "python",
   "name": "python3"
  },
  "language_info": {
   "codemirror_mode": {
    "name": "ipython",
    "version": 3
   },
   "file_extension": ".py",
   "mimetype": "text/x-python",
   "name": "python",
   "nbconvert_exporter": "python",
   "pygments_lexer": "ipython3",
   "version": "3.12.0"
  }
 },
 "nbformat": 4,
 "nbformat_minor": 5
}
